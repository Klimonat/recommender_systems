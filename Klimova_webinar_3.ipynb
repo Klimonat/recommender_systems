{
 "cells": [
  {
   "cell_type": "markdown",
   "metadata": {
    "id": "y-NKXfLpIHyS"
   },
   "source": [
    "# Вебинар 3. Коллаборативная фильтрация"
   ]
  },
  {
   "cell_type": "markdown",
   "metadata": {
    "id": "2wqsdRrTIHyc"
   },
   "source": [
    "Исчерпывающую информацию с теорией, кодом и примерами можно найти в [статье](https://www.ethanrosenthal.com/2016/10/19/implicit-mf-part-1/)"
   ]
  },
  {
   "cell_type": "markdown",
   "metadata": {
    "id": "6ovfF6vdIHyd"
   },
   "source": [
    "# 1. Матричная факторизация"
   ]
  },
  {
   "cell_type": "markdown",
   "metadata": {
    "id": "PvC1iGQgIHyd"
   },
   "source": [
    "Раскладываем user-item матрицу на 2: матрицу латентных факторов юзеров и матрицу латентных факторов товаров\n",
    "\n",
    "- латентый фактор = эмбеддинг (embedding)    "
   ]
  },
  {
   "cell_type": "markdown",
   "metadata": {
    "id": "6TAuWYOrIHye"
   },
   "source": [
    "<img src='mf.png'>"
   ]
  },
  {
   "cell_type": "markdown",
   "metadata": {},
   "source": [
    "(UхI) = (Uхk) * (kхI)"
   ]
  },
  {
   "cell_type": "markdown",
   "metadata": {},
   "source": [
    "user = 1000"
   ]
  },
  {
   "cell_type": "markdown",
   "metadata": {},
   "source": [
    "item = 3000"
   ]
  },
  {
   "cell_type": "markdown",
   "metadata": {},
   "source": [
    "1000X3 3X3000"
   ]
  },
  {
   "cell_type": "markdown",
   "metadata": {
    "id": "wJxPaKgQIHyf"
   },
   "source": [
    "---"
   ]
  },
  {
   "attachments": {
    "image.png": {
     "image/png": "[encoded data removed]"
    }
   },
   "cell_type": "markdown",
   "metadata": {},
   "source": [
    "![image.png](attachment:image.png)"
   ]
  },
  {
   "cell_type": "markdown",
   "metadata": {
    "id": "_boxK1R8IHyf"
   },
   "source": [
    "## Alternating Least Squares (ALS)"
   ]
  },
  {
   "cell_type": "markdown",
   "metadata": {},
   "source": [
    "<img src=\"als_formula.png\" >"
   ]
  },
  {
   "cell_type": "markdown",
   "metadata": {
    "id": "v5JZh2OlIHyg"
   },
   "source": [
    "$x_u^T$ - user embeddings  \n",
    "$y_i$ - item embeddings  \n",
    "$p_{ui}$ - 0/1. 1 - если в матрице user-item эдемент > 0 (было взаимодействие)  \n",
    "$c_{ui}$ - Вес ошибки = элемент матрицы user-item  \n",
    "$\\lambda_x$, $\\lambda_y$ - коэффициенты регуляризации  "
   ]
  },
  {
   "cell_type": "markdown",
   "metadata": {
    "id": "fMy8aBzGIHyg"
   },
   "source": [
    "**Алгоритм**  \n",
    "ALS - лишь способ оптимизации (поиска коэффициентов в эмбеддингах):  \n",
    "\n",
    "1. Фиксируем эмбеддинги юзеров $x_u^T$ --> легко посчитать производную по эмбеддингам товаров $y_i$\n",
    "2. Обновляем эмбеддинги товаров (делаем шаг по антиградиенту = градиентный спуск)\n",
    "3. Фиксируем эмбеддинги товаров $y_i$ --> легко посчитать производную по эмбеддингам юзеров $x_u^T$\n",
    "4. Обновляем эмбеддинги юзеров (делаем шаг по антиградиенту = градиентный спуск)\n",
    "5. Повторяем, пока процедура не сойдется"
   ]
  },
  {
   "cell_type": "markdown",
   "metadata": {
    "id": "7BIbRcukIHyh"
   },
   "source": [
    "**Плюсы**\n",
    "- Очень быстрый\n",
    "- В продакшене можно зафиксировать на весь день эмбеддинги товаров (товары за день не меняются), \n",
    "    и в реал-тайм обновлять эмбеддинги юзеров при покупке\n",
    "- Есть регуляризация $\\lambda_x$, $\\lambda_y$\n",
    "- Есть веса ошибок $с_{u_i}$ - элементы матрицы user-item\n",
    "- Библиотека implicit под капотом использует Cyton - очень быстро работает\n",
    "- Predict для *всех* юзеров можно сделать просто перемножением 2-ух матриц - очень быстро\n",
    "- Можно применять различные **взвешивания** матрицы: TF-IDF, BM25, ... . Это сильно улучшает качество"
   ]
  },
  {
   "cell_type": "markdown",
   "metadata": {
    "id": "XvVWxLAcIHyh"
   },
   "source": [
    "### 1. Базовое применение"
   ]
  },
  {
   "cell_type": "code",
   "execution_count": 2,
   "metadata": {
    "id": "gdbpCE-gIHyi"
   },
   "outputs": [],
   "source": [
    "import pandas as pd\n",
    "import numpy as np\n",
    "import matplotlib.pyplot as plt\n",
    "%matplotlib inline\n",
    "\n",
    "# Для работы с матрицами\n",
    "from scipy.sparse import csr_matrix\n",
    "\n",
    "# Матричная факторизация\n",
    "from implicit.als import AlternatingLeastSquares\n",
    "from implicit.nearest_neighbours import bm25_weight, tfidf_weight\n",
    "\n",
    "# Функции из 1-ого вебинара\n",
    "import os, sys\n",
    "\n",
    "module_path = os.path.abspath(os.path.join(os.pardir))\n",
    "if module_path not in sys.path:\n",
    "    sys.path.append(module_path)\n",
    "    \n",
    "from metrics import precision_at_k, recall_at_k"
   ]
  },
  {
   "cell_type": "code",
   "execution_count": 3,
   "metadata": {
    "id": "2IhaU8JDIHyi",
    "outputId": "a3a22636-04a2-4ad4-9774-e0c5cbcd6a09"
   },
   "outputs": [
    {
     "data": {
      "text/html": [
       "<div>\n",
       "<style scoped>\n",
       "    .dataframe tbody tr th:only-of-type {\n",
       "        vertical-align: middle;\n",
       "    }\n",
       "\n",
       "    .dataframe tbody tr th {\n",
       "        vertical-align: top;\n",
       "    }\n",
       "\n",
       "    .dataframe thead th {\n",
       "        text-align: right;\n",
       "    }\n",
       "</style>\n",
       "<table border=\"1\" class=\"dataframe\">\n",
       "  <thead>\n",
       "    <tr style=\"text-align: right;\">\n",
       "      <th></th>\n",
       "      <th>user_id</th>\n",
       "      <th>basket_id</th>\n",
       "      <th>day</th>\n",
       "      <th>item_id</th>\n",
       "      <th>quantity</th>\n",
       "      <th>sales_value</th>\n",
       "      <th>store_id</th>\n",
       "      <th>retail_disc</th>\n",
       "      <th>trans_time</th>\n",
       "      <th>week_no</th>\n",
       "      <th>coupon_disc</th>\n",
       "      <th>coupon_match_disc</th>\n",
       "    </tr>\n",
       "  </thead>\n",
       "  <tbody>\n",
       "    <tr>\n",
       "      <th>0</th>\n",
       "      <td>2375</td>\n",
       "      <td>26984851472</td>\n",
       "      <td>1</td>\n",
       "      <td>1004906</td>\n",
       "      <td>1</td>\n",
       "      <td>1.39</td>\n",
       "      <td>364</td>\n",
       "      <td>-0.60</td>\n",
       "      <td>1631</td>\n",
       "      <td>1</td>\n",
       "      <td>0.0</td>\n",
       "      <td>0.0</td>\n",
       "    </tr>\n",
       "    <tr>\n",
       "      <th>1</th>\n",
       "      <td>2375</td>\n",
       "      <td>26984851472</td>\n",
       "      <td>1</td>\n",
       "      <td>1033142</td>\n",
       "      <td>1</td>\n",
       "      <td>0.82</td>\n",
       "      <td>364</td>\n",
       "      <td>0.00</td>\n",
       "      <td>1631</td>\n",
       "      <td>1</td>\n",
       "      <td>0.0</td>\n",
       "      <td>0.0</td>\n",
       "    </tr>\n",
       "    <tr>\n",
       "      <th>2</th>\n",
       "      <td>2375</td>\n",
       "      <td>26984851472</td>\n",
       "      <td>1</td>\n",
       "      <td>1036325</td>\n",
       "      <td>1</td>\n",
       "      <td>0.99</td>\n",
       "      <td>364</td>\n",
       "      <td>-0.30</td>\n",
       "      <td>1631</td>\n",
       "      <td>1</td>\n",
       "      <td>0.0</td>\n",
       "      <td>0.0</td>\n",
       "    </tr>\n",
       "    <tr>\n",
       "      <th>3</th>\n",
       "      <td>2375</td>\n",
       "      <td>26984851472</td>\n",
       "      <td>1</td>\n",
       "      <td>1082185</td>\n",
       "      <td>1</td>\n",
       "      <td>1.21</td>\n",
       "      <td>364</td>\n",
       "      <td>0.00</td>\n",
       "      <td>1631</td>\n",
       "      <td>1</td>\n",
       "      <td>0.0</td>\n",
       "      <td>0.0</td>\n",
       "    </tr>\n",
       "    <tr>\n",
       "      <th>4</th>\n",
       "      <td>2375</td>\n",
       "      <td>26984851472</td>\n",
       "      <td>1</td>\n",
       "      <td>8160430</td>\n",
       "      <td>1</td>\n",
       "      <td>1.50</td>\n",
       "      <td>364</td>\n",
       "      <td>-0.39</td>\n",
       "      <td>1631</td>\n",
       "      <td>1</td>\n",
       "      <td>0.0</td>\n",
       "      <td>0.0</td>\n",
       "    </tr>\n",
       "    <tr>\n",
       "      <th>5</th>\n",
       "      <td>2375</td>\n",
       "      <td>26984851516</td>\n",
       "      <td>1</td>\n",
       "      <td>826249</td>\n",
       "      <td>2</td>\n",
       "      <td>1.98</td>\n",
       "      <td>364</td>\n",
       "      <td>-0.60</td>\n",
       "      <td>1642</td>\n",
       "      <td>1</td>\n",
       "      <td>0.0</td>\n",
       "      <td>0.0</td>\n",
       "    </tr>\n",
       "    <tr>\n",
       "      <th>6</th>\n",
       "      <td>2375</td>\n",
       "      <td>26984851516</td>\n",
       "      <td>1</td>\n",
       "      <td>1043142</td>\n",
       "      <td>1</td>\n",
       "      <td>1.57</td>\n",
       "      <td>364</td>\n",
       "      <td>-0.68</td>\n",
       "      <td>1642</td>\n",
       "      <td>1</td>\n",
       "      <td>0.0</td>\n",
       "      <td>0.0</td>\n",
       "    </tr>\n",
       "    <tr>\n",
       "      <th>7</th>\n",
       "      <td>2375</td>\n",
       "      <td>26984851516</td>\n",
       "      <td>1</td>\n",
       "      <td>1085983</td>\n",
       "      <td>1</td>\n",
       "      <td>2.99</td>\n",
       "      <td>364</td>\n",
       "      <td>-0.40</td>\n",
       "      <td>1642</td>\n",
       "      <td>1</td>\n",
       "      <td>0.0</td>\n",
       "      <td>0.0</td>\n",
       "    </tr>\n",
       "    <tr>\n",
       "      <th>8</th>\n",
       "      <td>2375</td>\n",
       "      <td>26984851516</td>\n",
       "      <td>1</td>\n",
       "      <td>1102651</td>\n",
       "      <td>1</td>\n",
       "      <td>1.89</td>\n",
       "      <td>364</td>\n",
       "      <td>0.00</td>\n",
       "      <td>1642</td>\n",
       "      <td>1</td>\n",
       "      <td>0.0</td>\n",
       "      <td>0.0</td>\n",
       "    </tr>\n",
       "    <tr>\n",
       "      <th>9</th>\n",
       "      <td>2375</td>\n",
       "      <td>26984851516</td>\n",
       "      <td>1</td>\n",
       "      <td>6423775</td>\n",
       "      <td>1</td>\n",
       "      <td>2.00</td>\n",
       "      <td>364</td>\n",
       "      <td>-0.79</td>\n",
       "      <td>1642</td>\n",
       "      <td>1</td>\n",
       "      <td>0.0</td>\n",
       "      <td>0.0</td>\n",
       "    </tr>\n",
       "  </tbody>\n",
       "</table>\n",
       "</div>"
      ],
      "text/plain": [
       "   user_id    basket_id  day  item_id  quantity  sales_value  store_id  \\\n",
       "0     2375  26984851472    1  1004906         1         1.39       364   \n",
       "1     2375  26984851472    1  1033142         1         0.82       364   \n",
       "2     2375  26984851472    1  1036325         1         0.99       364   \n",
       "3     2375  26984851472    1  1082185         1         1.21       364   \n",
       "4     2375  26984851472    1  8160430         1         1.50       364   \n",
       "5     2375  26984851516    1   826249         2         1.98       364   \n",
       "6     2375  26984851516    1  1043142         1         1.57       364   \n",
       "7     2375  26984851516    1  1085983         1         2.99       364   \n",
       "8     2375  26984851516    1  1102651         1         1.89       364   \n",
       "9     2375  26984851516    1  6423775         1         2.00       364   \n",
       "\n",
       "   retail_disc  trans_time  week_no  coupon_disc  coupon_match_disc  \n",
       "0        -0.60        1631        1          0.0                0.0  \n",
       "1         0.00        1631        1          0.0                0.0  \n",
       "2        -0.30        1631        1          0.0                0.0  \n",
       "3         0.00        1631        1          0.0                0.0  \n",
       "4        -0.39        1631        1          0.0                0.0  \n",
       "5        -0.60        1642        1          0.0                0.0  \n",
       "6        -0.68        1642        1          0.0                0.0  \n",
       "7        -0.40        1642        1          0.0                0.0  \n",
       "8         0.00        1642        1          0.0                0.0  \n",
       "9        -0.79        1642        1          0.0                0.0  "
      ]
     },
     "execution_count": 3,
     "metadata": {},
     "output_type": "execute_result"
    }
   ],
   "source": [
    "data = pd.read_csv('retail_train.csv')\n",
    "\n",
    "data.columns = [col.lower() for col in data.columns]\n",
    "data.rename(columns={'household_key': 'user_id',\n",
    "                    'product_id': 'item_id'},\n",
    "           inplace=True)\n",
    "\n",
    "\n",
    "test_size_weeks = 3\n",
    "\n",
    "data_train = data[data['week_no'] < data['week_no'].max() - test_size_weeks]\n",
    "data_test = data[data['week_no'] >= data['week_no'].max() - test_size_weeks]\n",
    "\n",
    "data_train.head(10)"
   ]
  },
  {
   "cell_type": "code",
   "execution_count": 4,
   "metadata": {
    "id": "2Csvjg-jIHyk",
    "outputId": "75eeddbb-bdc1-401e-bfcf-6a66ae46b3a3"
   },
   "outputs": [
    {
     "data": {
      "text/html": [
       "<div>\n",
       "<style scoped>\n",
       "    .dataframe tbody tr th:only-of-type {\n",
       "        vertical-align: middle;\n",
       "    }\n",
       "\n",
       "    .dataframe tbody tr th {\n",
       "        vertical-align: top;\n",
       "    }\n",
       "\n",
       "    .dataframe thead th {\n",
       "        text-align: right;\n",
       "    }\n",
       "</style>\n",
       "<table border=\"1\" class=\"dataframe\">\n",
       "  <thead>\n",
       "    <tr style=\"text-align: right;\">\n",
       "      <th></th>\n",
       "      <th>item_id</th>\n",
       "      <th>manufacturer</th>\n",
       "      <th>department</th>\n",
       "      <th>brand</th>\n",
       "      <th>commodity_desc</th>\n",
       "      <th>sub_commodity_desc</th>\n",
       "      <th>curr_size_of_product</th>\n",
       "    </tr>\n",
       "  </thead>\n",
       "  <tbody>\n",
       "    <tr>\n",
       "      <th>0</th>\n",
       "      <td>25671</td>\n",
       "      <td>2</td>\n",
       "      <td>GROCERY</td>\n",
       "      <td>National</td>\n",
       "      <td>FRZN ICE</td>\n",
       "      <td>ICE - CRUSHED/CUBED</td>\n",
       "      <td>22 LB</td>\n",
       "    </tr>\n",
       "    <tr>\n",
       "      <th>1</th>\n",
       "      <td>26081</td>\n",
       "      <td>2</td>\n",
       "      <td>MISC. TRANS.</td>\n",
       "      <td>National</td>\n",
       "      <td>NO COMMODITY DESCRIPTION</td>\n",
       "      <td>NO SUBCOMMODITY DESCRIPTION</td>\n",
       "      <td></td>\n",
       "    </tr>\n",
       "  </tbody>\n",
       "</table>\n",
       "</div>"
      ],
      "text/plain": [
       "   item_id  manufacturer    department     brand            commodity_desc  \\\n",
       "0    25671             2       GROCERY  National                  FRZN ICE   \n",
       "1    26081             2  MISC. TRANS.  National  NO COMMODITY DESCRIPTION   \n",
       "\n",
       "            sub_commodity_desc curr_size_of_product  \n",
       "0          ICE - CRUSHED/CUBED                22 LB  \n",
       "1  NO SUBCOMMODITY DESCRIPTION                       "
      ]
     },
     "execution_count": 4,
     "metadata": {},
     "output_type": "execute_result"
    }
   ],
   "source": [
    "item_features = pd.read_csv('product.csv')\n",
    "item_features.columns = [col.lower() for col in item_features.columns]\n",
    "item_features.rename(columns={'product_id': 'item_id'}, inplace=True)\n",
    "\n",
    "item_features.head(2)"
   ]
  },
  {
   "cell_type": "code",
   "execution_count": 5,
   "metadata": {
    "id": "ZQna6TBQIHyk",
    "outputId": "7728607d-5b4d-4ce8-f30f-79072af648d2"
   },
   "outputs": [
    {
     "data": {
      "text/plain": [
       "array(['GROCERY', 'MISC. TRANS.', 'PASTRY', 'DRUG GM', 'MEAT-PCKGD',\n",
       "       'SEAFOOD-PCKGD', 'PRODUCE', 'NUTRITION', 'DELI', 'COSMETICS',\n",
       "       'MEAT', 'FLORAL', 'TRAVEL & LEISUR', 'SEAFOOD', 'MISC SALES TRAN',\n",
       "       'SALAD BAR', 'KIOSK-GAS', 'ELECT &PLUMBING', 'GRO BAKERY',\n",
       "       'GM MERCH EXP', 'FROZEN GROCERY', 'COUP/STR & MFG', 'SPIRITS',\n",
       "       'GARDEN CENTER', 'TOYS', 'CHARITABLE CONT', 'RESTAURANT', 'RX',\n",
       "       'PROD-WHS SALES', 'MEAT-WHSE', 'DAIRY DELI', 'CHEF SHOPPE', 'HBC',\n",
       "       'DELI/SNACK BAR', 'PORK', 'AUTOMOTIVE', 'VIDEO RENTAL', ' ',\n",
       "       'CNTRL/STORE SUP', 'HOUSEWARES', 'POSTAL CENTER', 'PHOTO', 'VIDEO',\n",
       "       'PHARMACY SUPPLY'], dtype=object)"
      ]
     },
     "execution_count": 5,
     "metadata": {},
     "output_type": "execute_result"
    }
   ],
   "source": [
    "item_features.department.unique()"
   ]
  },
  {
   "cell_type": "code",
   "execution_count": 6,
   "metadata": {
    "id": "vBJcGBpTIHyl",
    "outputId": "612dfe1f-286b-4d81-af92-721c6e317b6c"
   },
   "outputs": [
    {
     "data": {
      "text/html": [
       "<div>\n",
       "<style scoped>\n",
       "    .dataframe tbody tr th:only-of-type {\n",
       "        vertical-align: middle;\n",
       "    }\n",
       "\n",
       "    .dataframe tbody tr th {\n",
       "        vertical-align: top;\n",
       "    }\n",
       "\n",
       "    .dataframe thead th {\n",
       "        text-align: right;\n",
       "    }\n",
       "</style>\n",
       "<table border=\"1\" class=\"dataframe\">\n",
       "  <thead>\n",
       "    <tr style=\"text-align: right;\">\n",
       "      <th></th>\n",
       "      <th>user_id</th>\n",
       "      <th>actual</th>\n",
       "    </tr>\n",
       "  </thead>\n",
       "  <tbody>\n",
       "    <tr>\n",
       "      <th>0</th>\n",
       "      <td>1</td>\n",
       "      <td>[821867, 834484, 856942, 865456, 889248, 90795...</td>\n",
       "    </tr>\n",
       "    <tr>\n",
       "      <th>1</th>\n",
       "      <td>3</td>\n",
       "      <td>[835476, 851057, 872021, 878302, 879948, 90963...</td>\n",
       "    </tr>\n",
       "  </tbody>\n",
       "</table>\n",
       "</div>"
      ],
      "text/plain": [
       "   user_id                                             actual\n",
       "0        1  [821867, 834484, 856942, 865456, 889248, 90795...\n",
       "1        3  [835476, 851057, 872021, 878302, 879948, 90963..."
      ]
     },
     "execution_count": 6,
     "metadata": {},
     "output_type": "execute_result"
    }
   ],
   "source": [
    "result = data_test.groupby('user_id')['item_id'].unique().reset_index()\n",
    "result.columns=['user_id', 'actual']\n",
    "result.head(2)"
   ]
  },
  {
   "cell_type": "code",
   "execution_count": 7,
   "metadata": {
    "id": "9dmp1II9IHyl"
   },
   "outputs": [],
   "source": [
    "popularity = data_train.groupby('item_id')['quantity'].sum().reset_index()\n",
    "popularity.rename(columns={'quantity': 'n_sold'}, inplace=True)\n",
    "\n",
    "top_5000 = popularity.sort_values('n_sold', ascending=False).head(5000).item_id.tolist()"
   ]
  },
  {
   "cell_type": "code",
   "execution_count": 8,
   "metadata": {},
   "outputs": [
    {
     "data": {
      "text/html": [
       "<div>\n",
       "<style scoped>\n",
       "    .dataframe tbody tr th:only-of-type {\n",
       "        vertical-align: middle;\n",
       "    }\n",
       "\n",
       "    .dataframe tbody tr th {\n",
       "        vertical-align: top;\n",
       "    }\n",
       "\n",
       "    .dataframe thead th {\n",
       "        text-align: right;\n",
       "    }\n",
       "</style>\n",
       "<table border=\"1\" class=\"dataframe\">\n",
       "  <thead>\n",
       "    <tr style=\"text-align: right;\">\n",
       "      <th></th>\n",
       "      <th>user_id</th>\n",
       "      <th>basket_id</th>\n",
       "      <th>day</th>\n",
       "      <th>item_id</th>\n",
       "      <th>quantity</th>\n",
       "      <th>sales_value</th>\n",
       "      <th>store_id</th>\n",
       "      <th>retail_disc</th>\n",
       "      <th>trans_time</th>\n",
       "      <th>week_no</th>\n",
       "      <th>coupon_disc</th>\n",
       "      <th>coupon_match_disc</th>\n",
       "    </tr>\n",
       "  </thead>\n",
       "  <tbody>\n",
       "    <tr>\n",
       "      <th>0</th>\n",
       "      <td>2375</td>\n",
       "      <td>26984851472</td>\n",
       "      <td>1</td>\n",
       "      <td>1004906</td>\n",
       "      <td>1</td>\n",
       "      <td>1.39</td>\n",
       "      <td>364</td>\n",
       "      <td>-0.60</td>\n",
       "      <td>1631</td>\n",
       "      <td>1</td>\n",
       "      <td>0.0</td>\n",
       "      <td>0.0</td>\n",
       "    </tr>\n",
       "    <tr>\n",
       "      <th>1</th>\n",
       "      <td>2375</td>\n",
       "      <td>26984851472</td>\n",
       "      <td>1</td>\n",
       "      <td>1033142</td>\n",
       "      <td>1</td>\n",
       "      <td>0.82</td>\n",
       "      <td>364</td>\n",
       "      <td>0.00</td>\n",
       "      <td>1631</td>\n",
       "      <td>1</td>\n",
       "      <td>0.0</td>\n",
       "      <td>0.0</td>\n",
       "    </tr>\n",
       "    <tr>\n",
       "      <th>2</th>\n",
       "      <td>2375</td>\n",
       "      <td>26984851472</td>\n",
       "      <td>1</td>\n",
       "      <td>1036325</td>\n",
       "      <td>1</td>\n",
       "      <td>0.99</td>\n",
       "      <td>364</td>\n",
       "      <td>-0.30</td>\n",
       "      <td>1631</td>\n",
       "      <td>1</td>\n",
       "      <td>0.0</td>\n",
       "      <td>0.0</td>\n",
       "    </tr>\n",
       "    <tr>\n",
       "      <th>3</th>\n",
       "      <td>2375</td>\n",
       "      <td>26984851472</td>\n",
       "      <td>1</td>\n",
       "      <td>1082185</td>\n",
       "      <td>1</td>\n",
       "      <td>1.21</td>\n",
       "      <td>364</td>\n",
       "      <td>0.00</td>\n",
       "      <td>1631</td>\n",
       "      <td>1</td>\n",
       "      <td>0.0</td>\n",
       "      <td>0.0</td>\n",
       "    </tr>\n",
       "    <tr>\n",
       "      <th>4</th>\n",
       "      <td>2375</td>\n",
       "      <td>26984851472</td>\n",
       "      <td>1</td>\n",
       "      <td>8160430</td>\n",
       "      <td>1</td>\n",
       "      <td>1.50</td>\n",
       "      <td>364</td>\n",
       "      <td>-0.39</td>\n",
       "      <td>1631</td>\n",
       "      <td>1</td>\n",
       "      <td>0.0</td>\n",
       "      <td>0.0</td>\n",
       "    </tr>\n",
       "  </tbody>\n",
       "</table>\n",
       "</div>"
      ],
      "text/plain": [
       "   user_id    basket_id  day  item_id  quantity  sales_value  store_id  \\\n",
       "0     2375  26984851472    1  1004906         1         1.39       364   \n",
       "1     2375  26984851472    1  1033142         1         0.82       364   \n",
       "2     2375  26984851472    1  1036325         1         0.99       364   \n",
       "3     2375  26984851472    1  1082185         1         1.21       364   \n",
       "4     2375  26984851472    1  8160430         1         1.50       364   \n",
       "\n",
       "   retail_disc  trans_time  week_no  coupon_disc  coupon_match_disc  \n",
       "0        -0.60        1631        1          0.0                0.0  \n",
       "1         0.00        1631        1          0.0                0.0  \n",
       "2        -0.30        1631        1          0.0                0.0  \n",
       "3         0.00        1631        1          0.0                0.0  \n",
       "4        -0.39        1631        1          0.0                0.0  "
      ]
     },
     "execution_count": 8,
     "metadata": {},
     "output_type": "execute_result"
    }
   ],
   "source": [
    "data_train.head(5)"
   ]
  },
  {
   "cell_type": "code",
   "execution_count": 9,
   "metadata": {
    "id": "jvQ8_CJ9IHym",
    "outputId": "ebf07e9a-6f11-4aa9-d43d-98c0055ec42d"
   },
   "outputs": [
    {
     "name": "stderr",
     "output_type": "stream",
     "text": [
      "D:\\Users\\Pelmellika\\anaconda3\\lib\\site-packages\\pandas\\core\\indexing.py:1765: SettingWithCopyWarning: \n",
      "A value is trying to be set on a copy of a slice from a DataFrame.\n",
      "Try using .loc[row_indexer,col_indexer] = value instead\n",
      "\n",
      "See the caveats in the documentation: https://pandas.pydata.org/pandas-docs/stable/user_guide/indexing.html#returning-a-view-versus-a-copy\n",
      "  isetter(loc, value)\n"
     ]
    },
    {
     "data": {
      "text/html": [
       "<div>\n",
       "<style scoped>\n",
       "    .dataframe tbody tr th:only-of-type {\n",
       "        vertical-align: middle;\n",
       "    }\n",
       "\n",
       "    .dataframe tbody tr th {\n",
       "        vertical-align: top;\n",
       "    }\n",
       "\n",
       "    .dataframe thead th {\n",
       "        text-align: right;\n",
       "    }\n",
       "</style>\n",
       "<table border=\"1\" class=\"dataframe\">\n",
       "  <thead>\n",
       "    <tr style=\"text-align: right;\">\n",
       "      <th>item_id</th>\n",
       "      <th>202291</th>\n",
       "      <th>397896</th>\n",
       "      <th>420647</th>\n",
       "      <th>480014</th>\n",
       "      <th>545926</th>\n",
       "      <th>707683</th>\n",
       "      <th>731106</th>\n",
       "      <th>818980</th>\n",
       "      <th>819063</th>\n",
       "      <th>819227</th>\n",
       "      <th>...</th>\n",
       "      <th>15778533</th>\n",
       "      <th>15831255</th>\n",
       "      <th>15926712</th>\n",
       "      <th>15926775</th>\n",
       "      <th>15926844</th>\n",
       "      <th>15926886</th>\n",
       "      <th>15927403</th>\n",
       "      <th>15927661</th>\n",
       "      <th>15927850</th>\n",
       "      <th>16809471</th>\n",
       "    </tr>\n",
       "    <tr>\n",
       "      <th>user_id</th>\n",
       "      <th></th>\n",
       "      <th></th>\n",
       "      <th></th>\n",
       "      <th></th>\n",
       "      <th></th>\n",
       "      <th></th>\n",
       "      <th></th>\n",
       "      <th></th>\n",
       "      <th></th>\n",
       "      <th></th>\n",
       "      <th></th>\n",
       "      <th></th>\n",
       "      <th></th>\n",
       "      <th></th>\n",
       "      <th></th>\n",
       "      <th></th>\n",
       "      <th></th>\n",
       "      <th></th>\n",
       "      <th></th>\n",
       "      <th></th>\n",
       "      <th></th>\n",
       "    </tr>\n",
       "  </thead>\n",
       "  <tbody>\n",
       "    <tr>\n",
       "      <th>1</th>\n",
       "      <td>0.0</td>\n",
       "      <td>0.0</td>\n",
       "      <td>0.0</td>\n",
       "      <td>0.0</td>\n",
       "      <td>0.0</td>\n",
       "      <td>0.0</td>\n",
       "      <td>0.0</td>\n",
       "      <td>0.0</td>\n",
       "      <td>0.0</td>\n",
       "      <td>0.0</td>\n",
       "      <td>...</td>\n",
       "      <td>0.0</td>\n",
       "      <td>0.0</td>\n",
       "      <td>0.0</td>\n",
       "      <td>0.0</td>\n",
       "      <td>1.0</td>\n",
       "      <td>0.0</td>\n",
       "      <td>0.0</td>\n",
       "      <td>0.0</td>\n",
       "      <td>0.0</td>\n",
       "      <td>0.0</td>\n",
       "    </tr>\n",
       "    <tr>\n",
       "      <th>2</th>\n",
       "      <td>0.0</td>\n",
       "      <td>0.0</td>\n",
       "      <td>0.0</td>\n",
       "      <td>0.0</td>\n",
       "      <td>0.0</td>\n",
       "      <td>0.0</td>\n",
       "      <td>0.0</td>\n",
       "      <td>0.0</td>\n",
       "      <td>0.0</td>\n",
       "      <td>0.0</td>\n",
       "      <td>...</td>\n",
       "      <td>0.0</td>\n",
       "      <td>0.0</td>\n",
       "      <td>0.0</td>\n",
       "      <td>0.0</td>\n",
       "      <td>0.0</td>\n",
       "      <td>0.0</td>\n",
       "      <td>0.0</td>\n",
       "      <td>0.0</td>\n",
       "      <td>0.0</td>\n",
       "      <td>0.0</td>\n",
       "    </tr>\n",
       "    <tr>\n",
       "      <th>3</th>\n",
       "      <td>0.0</td>\n",
       "      <td>0.0</td>\n",
       "      <td>0.0</td>\n",
       "      <td>0.0</td>\n",
       "      <td>0.0</td>\n",
       "      <td>0.0</td>\n",
       "      <td>0.0</td>\n",
       "      <td>0.0</td>\n",
       "      <td>0.0</td>\n",
       "      <td>0.0</td>\n",
       "      <td>...</td>\n",
       "      <td>0.0</td>\n",
       "      <td>0.0</td>\n",
       "      <td>0.0</td>\n",
       "      <td>0.0</td>\n",
       "      <td>0.0</td>\n",
       "      <td>0.0</td>\n",
       "      <td>0.0</td>\n",
       "      <td>0.0</td>\n",
       "      <td>0.0</td>\n",
       "      <td>0.0</td>\n",
       "    </tr>\n",
       "  </tbody>\n",
       "</table>\n",
       "<p>3 rows × 5001 columns</p>\n",
       "</div>"
      ],
      "text/plain": [
       "item_id  202291    397896    420647    480014    545926    707683    731106    \\\n",
       "user_id                                                                         \n",
       "1             0.0       0.0       0.0       0.0       0.0       0.0       0.0   \n",
       "2             0.0       0.0       0.0       0.0       0.0       0.0       0.0   \n",
       "3             0.0       0.0       0.0       0.0       0.0       0.0       0.0   \n",
       "\n",
       "item_id  818980    819063    819227    ...  15778533  15831255  15926712  \\\n",
       "user_id                                ...                                 \n",
       "1             0.0       0.0       0.0  ...       0.0       0.0       0.0   \n",
       "2             0.0       0.0       0.0  ...       0.0       0.0       0.0   \n",
       "3             0.0       0.0       0.0  ...       0.0       0.0       0.0   \n",
       "\n",
       "item_id  15926775  15926844  15926886  15927403  15927661  15927850  16809471  \n",
       "user_id                                                                        \n",
       "1             0.0       1.0       0.0       0.0       0.0       0.0       0.0  \n",
       "2             0.0       0.0       0.0       0.0       0.0       0.0       0.0  \n",
       "3             0.0       0.0       0.0       0.0       0.0       0.0       0.0  \n",
       "\n",
       "[3 rows x 5001 columns]"
      ]
     },
     "execution_count": 9,
     "metadata": {},
     "output_type": "execute_result"
    }
   ],
   "source": [
    "# Заведем фиктивный item_id\n",
    "\n",
    "data_train.loc[~data_train['item_id'].isin(top_5000), 'item_id'] = 999999\n",
    "\n",
    "user_item_matrix = pd.pivot_table(data_train, \n",
    "                                  index='user_id', columns='item_id', \n",
    "                                  values='quantity', # Можно пробовать другие варианты\n",
    "                                  aggfunc='count', \n",
    "                                  fill_value=0\n",
    "                                 )\n",
    "\n",
    "user_item_matrix = user_item_matrix.astype(float) # необходимый тип матрицы для implicit\n",
    "\n",
    "# переведем в формат saprse matrix\n",
    "sparse_user_item = csr_matrix(user_item_matrix).tocsr()\n",
    "\n",
    "user_item_matrix.head(3)"
   ]
  },
  {
   "cell_type": "code",
   "execution_count": 10,
   "metadata": {},
   "outputs": [
    {
     "data": {
      "text/html": [
       "<div>\n",
       "<style scoped>\n",
       "    .dataframe tbody tr th:only-of-type {\n",
       "        vertical-align: middle;\n",
       "    }\n",
       "\n",
       "    .dataframe tbody tr th {\n",
       "        vertical-align: top;\n",
       "    }\n",
       "\n",
       "    .dataframe thead th {\n",
       "        text-align: right;\n",
       "    }\n",
       "</style>\n",
       "<table border=\"1\" class=\"dataframe\">\n",
       "  <thead>\n",
       "    <tr style=\"text-align: right;\">\n",
       "      <th>item_id</th>\n",
       "      <th>202291</th>\n",
       "      <th>397896</th>\n",
       "      <th>420647</th>\n",
       "      <th>480014</th>\n",
       "      <th>545926</th>\n",
       "      <th>707683</th>\n",
       "      <th>731106</th>\n",
       "      <th>818980</th>\n",
       "      <th>819063</th>\n",
       "      <th>819227</th>\n",
       "      <th>...</th>\n",
       "      <th>15778533</th>\n",
       "      <th>15831255</th>\n",
       "      <th>15926712</th>\n",
       "      <th>15926775</th>\n",
       "      <th>15926844</th>\n",
       "      <th>15926886</th>\n",
       "      <th>15927403</th>\n",
       "      <th>15927661</th>\n",
       "      <th>15927850</th>\n",
       "      <th>16809471</th>\n",
       "    </tr>\n",
       "    <tr>\n",
       "      <th>user_id</th>\n",
       "      <th></th>\n",
       "      <th></th>\n",
       "      <th></th>\n",
       "      <th></th>\n",
       "      <th></th>\n",
       "      <th></th>\n",
       "      <th></th>\n",
       "      <th></th>\n",
       "      <th></th>\n",
       "      <th></th>\n",
       "      <th></th>\n",
       "      <th></th>\n",
       "      <th></th>\n",
       "      <th></th>\n",
       "      <th></th>\n",
       "      <th></th>\n",
       "      <th></th>\n",
       "      <th></th>\n",
       "      <th></th>\n",
       "      <th></th>\n",
       "      <th></th>\n",
       "    </tr>\n",
       "  </thead>\n",
       "  <tbody>\n",
       "    <tr>\n",
       "      <th>1</th>\n",
       "      <td>0.0</td>\n",
       "      <td>0.0</td>\n",
       "      <td>0.0</td>\n",
       "      <td>0.0</td>\n",
       "      <td>0.0</td>\n",
       "      <td>0.0</td>\n",
       "      <td>0.0</td>\n",
       "      <td>0.0</td>\n",
       "      <td>0.0</td>\n",
       "      <td>0.0</td>\n",
       "      <td>...</td>\n",
       "      <td>0.0</td>\n",
       "      <td>0.0</td>\n",
       "      <td>0.0</td>\n",
       "      <td>0.0</td>\n",
       "      <td>1.0</td>\n",
       "      <td>0.0</td>\n",
       "      <td>0.0</td>\n",
       "      <td>0.0</td>\n",
       "      <td>0.0</td>\n",
       "      <td>0.0</td>\n",
       "    </tr>\n",
       "    <tr>\n",
       "      <th>2</th>\n",
       "      <td>0.0</td>\n",
       "      <td>0.0</td>\n",
       "      <td>0.0</td>\n",
       "      <td>0.0</td>\n",
       "      <td>0.0</td>\n",
       "      <td>0.0</td>\n",
       "      <td>0.0</td>\n",
       "      <td>0.0</td>\n",
       "      <td>0.0</td>\n",
       "      <td>0.0</td>\n",
       "      <td>...</td>\n",
       "      <td>0.0</td>\n",
       "      <td>0.0</td>\n",
       "      <td>0.0</td>\n",
       "      <td>0.0</td>\n",
       "      <td>0.0</td>\n",
       "      <td>0.0</td>\n",
       "      <td>0.0</td>\n",
       "      <td>0.0</td>\n",
       "      <td>0.0</td>\n",
       "      <td>0.0</td>\n",
       "    </tr>\n",
       "    <tr>\n",
       "      <th>3</th>\n",
       "      <td>0.0</td>\n",
       "      <td>0.0</td>\n",
       "      <td>0.0</td>\n",
       "      <td>0.0</td>\n",
       "      <td>0.0</td>\n",
       "      <td>0.0</td>\n",
       "      <td>0.0</td>\n",
       "      <td>0.0</td>\n",
       "      <td>0.0</td>\n",
       "      <td>0.0</td>\n",
       "      <td>...</td>\n",
       "      <td>0.0</td>\n",
       "      <td>0.0</td>\n",
       "      <td>0.0</td>\n",
       "      <td>0.0</td>\n",
       "      <td>0.0</td>\n",
       "      <td>0.0</td>\n",
       "      <td>0.0</td>\n",
       "      <td>0.0</td>\n",
       "      <td>0.0</td>\n",
       "      <td>0.0</td>\n",
       "    </tr>\n",
       "    <tr>\n",
       "      <th>4</th>\n",
       "      <td>0.0</td>\n",
       "      <td>0.0</td>\n",
       "      <td>0.0</td>\n",
       "      <td>0.0</td>\n",
       "      <td>0.0</td>\n",
       "      <td>0.0</td>\n",
       "      <td>0.0</td>\n",
       "      <td>0.0</td>\n",
       "      <td>0.0</td>\n",
       "      <td>0.0</td>\n",
       "      <td>...</td>\n",
       "      <td>0.0</td>\n",
       "      <td>0.0</td>\n",
       "      <td>0.0</td>\n",
       "      <td>0.0</td>\n",
       "      <td>0.0</td>\n",
       "      <td>0.0</td>\n",
       "      <td>0.0</td>\n",
       "      <td>0.0</td>\n",
       "      <td>0.0</td>\n",
       "      <td>0.0</td>\n",
       "    </tr>\n",
       "    <tr>\n",
       "      <th>5</th>\n",
       "      <td>0.0</td>\n",
       "      <td>0.0</td>\n",
       "      <td>0.0</td>\n",
       "      <td>0.0</td>\n",
       "      <td>0.0</td>\n",
       "      <td>0.0</td>\n",
       "      <td>0.0</td>\n",
       "      <td>0.0</td>\n",
       "      <td>0.0</td>\n",
       "      <td>0.0</td>\n",
       "      <td>...</td>\n",
       "      <td>0.0</td>\n",
       "      <td>0.0</td>\n",
       "      <td>0.0</td>\n",
       "      <td>0.0</td>\n",
       "      <td>0.0</td>\n",
       "      <td>0.0</td>\n",
       "      <td>0.0</td>\n",
       "      <td>0.0</td>\n",
       "      <td>0.0</td>\n",
       "      <td>0.0</td>\n",
       "    </tr>\n",
       "    <tr>\n",
       "      <th>...</th>\n",
       "      <td>...</td>\n",
       "      <td>...</td>\n",
       "      <td>...</td>\n",
       "      <td>...</td>\n",
       "      <td>...</td>\n",
       "      <td>...</td>\n",
       "      <td>...</td>\n",
       "      <td>...</td>\n",
       "      <td>...</td>\n",
       "      <td>...</td>\n",
       "      <td>...</td>\n",
       "      <td>...</td>\n",
       "      <td>...</td>\n",
       "      <td>...</td>\n",
       "      <td>...</td>\n",
       "      <td>...</td>\n",
       "      <td>...</td>\n",
       "      <td>...</td>\n",
       "      <td>...</td>\n",
       "      <td>...</td>\n",
       "      <td>...</td>\n",
       "    </tr>\n",
       "    <tr>\n",
       "      <th>2496</th>\n",
       "      <td>0.0</td>\n",
       "      <td>0.0</td>\n",
       "      <td>0.0</td>\n",
       "      <td>0.0</td>\n",
       "      <td>0.0</td>\n",
       "      <td>0.0</td>\n",
       "      <td>0.0</td>\n",
       "      <td>0.0</td>\n",
       "      <td>0.0</td>\n",
       "      <td>0.0</td>\n",
       "      <td>...</td>\n",
       "      <td>0.0</td>\n",
       "      <td>0.0</td>\n",
       "      <td>0.0</td>\n",
       "      <td>0.0</td>\n",
       "      <td>0.0</td>\n",
       "      <td>0.0</td>\n",
       "      <td>0.0</td>\n",
       "      <td>0.0</td>\n",
       "      <td>0.0</td>\n",
       "      <td>0.0</td>\n",
       "    </tr>\n",
       "    <tr>\n",
       "      <th>2497</th>\n",
       "      <td>0.0</td>\n",
       "      <td>0.0</td>\n",
       "      <td>0.0</td>\n",
       "      <td>0.0</td>\n",
       "      <td>0.0</td>\n",
       "      <td>0.0</td>\n",
       "      <td>0.0</td>\n",
       "      <td>0.0</td>\n",
       "      <td>0.0</td>\n",
       "      <td>0.0</td>\n",
       "      <td>...</td>\n",
       "      <td>0.0</td>\n",
       "      <td>1.0</td>\n",
       "      <td>0.0</td>\n",
       "      <td>0.0</td>\n",
       "      <td>0.0</td>\n",
       "      <td>0.0</td>\n",
       "      <td>0.0</td>\n",
       "      <td>0.0</td>\n",
       "      <td>0.0</td>\n",
       "      <td>0.0</td>\n",
       "    </tr>\n",
       "    <tr>\n",
       "      <th>2498</th>\n",
       "      <td>2.0</td>\n",
       "      <td>0.0</td>\n",
       "      <td>0.0</td>\n",
       "      <td>0.0</td>\n",
       "      <td>0.0</td>\n",
       "      <td>0.0</td>\n",
       "      <td>0.0</td>\n",
       "      <td>0.0</td>\n",
       "      <td>0.0</td>\n",
       "      <td>0.0</td>\n",
       "      <td>...</td>\n",
       "      <td>0.0</td>\n",
       "      <td>0.0</td>\n",
       "      <td>0.0</td>\n",
       "      <td>0.0</td>\n",
       "      <td>0.0</td>\n",
       "      <td>0.0</td>\n",
       "      <td>0.0</td>\n",
       "      <td>0.0</td>\n",
       "      <td>0.0</td>\n",
       "      <td>0.0</td>\n",
       "    </tr>\n",
       "    <tr>\n",
       "      <th>2499</th>\n",
       "      <td>0.0</td>\n",
       "      <td>0.0</td>\n",
       "      <td>0.0</td>\n",
       "      <td>0.0</td>\n",
       "      <td>0.0</td>\n",
       "      <td>0.0</td>\n",
       "      <td>0.0</td>\n",
       "      <td>0.0</td>\n",
       "      <td>0.0</td>\n",
       "      <td>0.0</td>\n",
       "      <td>...</td>\n",
       "      <td>0.0</td>\n",
       "      <td>0.0</td>\n",
       "      <td>0.0</td>\n",
       "      <td>0.0</td>\n",
       "      <td>0.0</td>\n",
       "      <td>0.0</td>\n",
       "      <td>0.0</td>\n",
       "      <td>0.0</td>\n",
       "      <td>0.0</td>\n",
       "      <td>0.0</td>\n",
       "    </tr>\n",
       "    <tr>\n",
       "      <th>2500</th>\n",
       "      <td>0.0</td>\n",
       "      <td>0.0</td>\n",
       "      <td>0.0</td>\n",
       "      <td>0.0</td>\n",
       "      <td>0.0</td>\n",
       "      <td>0.0</td>\n",
       "      <td>0.0</td>\n",
       "      <td>0.0</td>\n",
       "      <td>0.0</td>\n",
       "      <td>0.0</td>\n",
       "      <td>...</td>\n",
       "      <td>0.0</td>\n",
       "      <td>0.0</td>\n",
       "      <td>0.0</td>\n",
       "      <td>0.0</td>\n",
       "      <td>0.0</td>\n",
       "      <td>0.0</td>\n",
       "      <td>0.0</td>\n",
       "      <td>0.0</td>\n",
       "      <td>0.0</td>\n",
       "      <td>0.0</td>\n",
       "    </tr>\n",
       "  </tbody>\n",
       "</table>\n",
       "<p>2499 rows × 5001 columns</p>\n",
       "</div>"
      ],
      "text/plain": [
       "item_id  202291    397896    420647    480014    545926    707683    731106    \\\n",
       "user_id                                                                         \n",
       "1             0.0       0.0       0.0       0.0       0.0       0.0       0.0   \n",
       "2             0.0       0.0       0.0       0.0       0.0       0.0       0.0   \n",
       "3             0.0       0.0       0.0       0.0       0.0       0.0       0.0   \n",
       "4             0.0       0.0       0.0       0.0       0.0       0.0       0.0   \n",
       "5             0.0       0.0       0.0       0.0       0.0       0.0       0.0   \n",
       "...           ...       ...       ...       ...       ...       ...       ...   \n",
       "2496          0.0       0.0       0.0       0.0       0.0       0.0       0.0   \n",
       "2497          0.0       0.0       0.0       0.0       0.0       0.0       0.0   \n",
       "2498          2.0       0.0       0.0       0.0       0.0       0.0       0.0   \n",
       "2499          0.0       0.0       0.0       0.0       0.0       0.0       0.0   \n",
       "2500          0.0       0.0       0.0       0.0       0.0       0.0       0.0   \n",
       "\n",
       "item_id  818980    819063    819227    ...  15778533  15831255  15926712  \\\n",
       "user_id                                ...                                 \n",
       "1             0.0       0.0       0.0  ...       0.0       0.0       0.0   \n",
       "2             0.0       0.0       0.0  ...       0.0       0.0       0.0   \n",
       "3             0.0       0.0       0.0  ...       0.0       0.0       0.0   \n",
       "4             0.0       0.0       0.0  ...       0.0       0.0       0.0   \n",
       "5             0.0       0.0       0.0  ...       0.0       0.0       0.0   \n",
       "...           ...       ...       ...  ...       ...       ...       ...   \n",
       "2496          0.0       0.0       0.0  ...       0.0       0.0       0.0   \n",
       "2497          0.0       0.0       0.0  ...       0.0       1.0       0.0   \n",
       "2498          0.0       0.0       0.0  ...       0.0       0.0       0.0   \n",
       "2499          0.0       0.0       0.0  ...       0.0       0.0       0.0   \n",
       "2500          0.0       0.0       0.0  ...       0.0       0.0       0.0   \n",
       "\n",
       "item_id  15926775  15926844  15926886  15927403  15927661  15927850  16809471  \n",
       "user_id                                                                        \n",
       "1             0.0       1.0       0.0       0.0       0.0       0.0       0.0  \n",
       "2             0.0       0.0       0.0       0.0       0.0       0.0       0.0  \n",
       "3             0.0       0.0       0.0       0.0       0.0       0.0       0.0  \n",
       "4             0.0       0.0       0.0       0.0       0.0       0.0       0.0  \n",
       "5             0.0       0.0       0.0       0.0       0.0       0.0       0.0  \n",
       "...           ...       ...       ...       ...       ...       ...       ...  \n",
       "2496          0.0       0.0       0.0       0.0       0.0       0.0       0.0  \n",
       "2497          0.0       0.0       0.0       0.0       0.0       0.0       0.0  \n",
       "2498          0.0       0.0       0.0       0.0       0.0       0.0       0.0  \n",
       "2499          0.0       0.0       0.0       0.0       0.0       0.0       0.0  \n",
       "2500          0.0       0.0       0.0       0.0       0.0       0.0       0.0  \n",
       "\n",
       "[2499 rows x 5001 columns]"
      ]
     },
     "execution_count": 10,
     "metadata": {},
     "output_type": "execute_result"
    }
   ],
   "source": [
    "user_item_matrix"
   ]
  },
  {
   "cell_type": "code",
   "execution_count": 11,
   "metadata": {
    "id": "TiPuXLb7IHym"
   },
   "outputs": [],
   "source": [
    "userids = user_item_matrix.index.values\n",
    "itemids = user_item_matrix.columns.values\n",
    "\n",
    "matrix_userids = np.arange(len(userids))\n",
    "matrix_itemids = np.arange(len(itemids))\n",
    "\n",
    "id_to_itemid = dict(zip(matrix_itemids, itemids))\n",
    "id_to_userid = dict(zip(matrix_userids, userids))\n",
    "\n",
    "itemid_to_id = dict(zip(itemids, matrix_itemids))\n",
    "userid_to_id = dict(zip(userids, matrix_userids))"
   ]
  },
  {
   "cell_type": "code",
   "execution_count": 12,
   "metadata": {},
   "outputs": [
    {
     "data": {
      "text/plain": [
       "1983"
      ]
     },
     "execution_count": 12,
     "metadata": {},
     "output_type": "execute_result"
    }
   ],
   "source": [
    "userid_to_id[1984]"
   ]
  },
  {
   "cell_type": "markdown",
   "metadata": {},
   "source": [
    "# ALS"
   ]
  },
  {
   "cell_type": "code",
   "execution_count": 13,
   "metadata": {
    "colab": {
     "referenced_widgets": [
      "f86969ff8f854a2cb5128440a2a2734e"
     ]
    },
    "id": "3DlT5ppEIHyn",
    "outputId": "c5207262-0dfc-4e42-91bc-e9754aad1906"
   },
   "outputs": [
    {
     "name": "stderr",
     "output_type": "stream",
     "text": [
      "WARNING:root:Intel MKL BLAS detected. Its highly recommend to set the environment variable 'export MKL_NUM_THREADS=1' to disable its internal multithreading\n"
     ]
    },
    {
     "data": {
      "application/vnd.jupyter.widget-view+json": {
       "model_id": "69a89a1914a44962a8705bb926dad305",
       "version_major": 2,
       "version_minor": 0
      },
      "text/plain": [
       "HBox(children=(HTML(value=''), FloatProgress(value=0.0, max=15.0), HTML(value='')))"
      ]
     },
     "metadata": {},
     "output_type": "display_data"
    },
    {
     "name": "stdout",
     "output_type": "stream",
     "text": [
      "\n",
      "Wall time: 7.74 s\n"
     ]
    }
   ],
   "source": [
    "%%time\n",
    "\n",
    "model = AlternatingLeastSquares(factors=100, \n",
    "                                regularization=0.001,\n",
    "                                iterations=15, \n",
    "                                calculate_training_loss=True, \n",
    "                                num_threads=4)\n",
    "\n",
    "model.fit(csr_matrix(user_item_matrix).T.tocsr(),  # На вход item-user matrix\n",
    "          show_progress=True)\n",
    "\n",
    "recs = model.recommend(userid=userid_to_id[2],  # userid - id от 0 до N\n",
    "                        user_items=csr_matrix(user_item_matrix).tocsr(),   # на вход user-item matrix\n",
    "                        N=5, # кол-во рекомендаций \n",
    "                        filter_already_liked_items=False, \n",
    "                        filter_items=None, \n",
    "                        recalculate_user=True)"
   ]
  },
  {
   "cell_type": "code",
   "execution_count": 14,
   "metadata": {
    "id": "NJR0pKy4IHyn",
    "outputId": "f8ea5a18-2e98-43fe-9ec4-5a6f530bf258"
   },
   "outputs": [
    {
     "data": {
      "text/plain": [
       "[1106523, 1133018, 999999, 5569230, 1082185]"
      ]
     },
     "execution_count": 14,
     "metadata": {},
     "output_type": "execute_result"
    }
   ],
   "source": [
    "[id_to_itemid[rec[0]] for rec in recs]"
   ]
  },
  {
   "cell_type": "code",
   "execution_count": 15,
   "metadata": {
    "id": "m2MhJPAcIHyo"
   },
   "outputs": [],
   "source": [
    "def get_recommendations(user, model, N=5):\n",
    "    res = [id_to_itemid[rec[0]] for rec in \n",
    "                    model.recommend(userid=userid_to_id[user], \n",
    "                                    user_items=sparse_user_item,   # на вход user-item matrix\n",
    "                                    N=N, \n",
    "                                    filter_already_liked_items=False, \n",
    "                                    filter_items=None, \n",
    "                                    recalculate_user=True)]\n",
    "    return res"
   ]
  },
  {
   "cell_type": "code",
   "execution_count": 16,
   "metadata": {
    "id": "-zbMDYN4IHyo",
    "outputId": "a042ce17-abe1-4b75-aedb-53a3f5c8d839"
   },
   "outputs": [
    {
     "name": "stdout",
     "output_type": "stream",
     "text": [
      "Wall time: 1min 29s\n"
     ]
    },
    {
     "data": {
      "text/plain": [
       "0.16513222331047786"
      ]
     },
     "execution_count": 16,
     "metadata": {},
     "output_type": "execute_result"
    }
   ],
   "source": [
    "%%time\n",
    "    \n",
    "result['als'] = result['user_id'].apply(lambda x: get_recommendations(x, model=model, N=5))\n",
    "result.apply(lambda row: precision_at_k(row['als'], row['actual']), axis=1).mean()"
   ]
  },
  {
   "cell_type": "code",
   "execution_count": 17,
   "metadata": {
    "id": "9TqsTlZEIHyp",
    "outputId": "e040c9f0-75ff-4b9d-ab7b-329e30dc5e09"
   },
   "outputs": [
    {
     "data": {
      "text/html": [
       "<div>\n",
       "<style scoped>\n",
       "    .dataframe tbody tr th:only-of-type {\n",
       "        vertical-align: middle;\n",
       "    }\n",
       "\n",
       "    .dataframe tbody tr th {\n",
       "        vertical-align: top;\n",
       "    }\n",
       "\n",
       "    .dataframe thead th {\n",
       "        text-align: right;\n",
       "    }\n",
       "</style>\n",
       "<table border=\"1\" class=\"dataframe\">\n",
       "  <thead>\n",
       "    <tr style=\"text-align: right;\">\n",
       "      <th></th>\n",
       "      <th>user_id</th>\n",
       "      <th>actual</th>\n",
       "      <th>als</th>\n",
       "    </tr>\n",
       "  </thead>\n",
       "  <tbody>\n",
       "    <tr>\n",
       "      <th>0</th>\n",
       "      <td>1</td>\n",
       "      <td>[821867, 834484, 856942, 865456, 889248, 90795...</td>\n",
       "      <td>[1033142, 5569374, 1005186, 1024306, 979707]</td>\n",
       "    </tr>\n",
       "    <tr>\n",
       "      <th>1</th>\n",
       "      <td>3</td>\n",
       "      <td>[835476, 851057, 872021, 878302, 879948, 90963...</td>\n",
       "      <td>[1133018, 1106523, 910032, 822407, 1022003]</td>\n",
       "    </tr>\n",
       "  </tbody>\n",
       "</table>\n",
       "</div>"
      ],
      "text/plain": [
       "   user_id                                             actual  \\\n",
       "0        1  [821867, 834484, 856942, 865456, 889248, 90795...   \n",
       "1        3  [835476, 851057, 872021, 878302, 879948, 90963...   \n",
       "\n",
       "                                            als  \n",
       "0  [1033142, 5569374, 1005186, 1024306, 979707]  \n",
       "1   [1133018, 1106523, 910032, 822407, 1022003]  "
      ]
     },
     "execution_count": 17,
     "metadata": {},
     "output_type": "execute_result"
    }
   ],
   "source": [
    "result.head(2)"
   ]
  },
  {
   "cell_type": "markdown",
   "metadata": {
    "id": "R1804WQGIHyp"
   },
   "source": [
    "### Embeddings"
   ]
  },
  {
   "cell_type": "code",
   "execution_count": 18,
   "metadata": {
    "id": "_ULLM3KlIHyp",
    "outputId": "bb1f650b-2d1c-4618-9a20-698cc98e6181"
   },
   "outputs": [
    {
     "data": {
      "text/plain": [
       "(5001, 100)"
      ]
     },
     "execution_count": 18,
     "metadata": {},
     "output_type": "execute_result"
    }
   ],
   "source": [
    "model.item_factors.shape"
   ]
  },
  {
   "cell_type": "code",
   "execution_count": 19,
   "metadata": {},
   "outputs": [
    {
     "data": {
      "text/html": [
       "<div>\n",
       "<style scoped>\n",
       "    .dataframe tbody tr th:only-of-type {\n",
       "        vertical-align: middle;\n",
       "    }\n",
       "\n",
       "    .dataframe tbody tr th {\n",
       "        vertical-align: top;\n",
       "    }\n",
       "\n",
       "    .dataframe thead th {\n",
       "        text-align: right;\n",
       "    }\n",
       "</style>\n",
       "<table border=\"1\" class=\"dataframe\">\n",
       "  <thead>\n",
       "    <tr style=\"text-align: right;\">\n",
       "      <th></th>\n",
       "      <th>0</th>\n",
       "      <th>1</th>\n",
       "      <th>2</th>\n",
       "      <th>3</th>\n",
       "      <th>4</th>\n",
       "      <th>5</th>\n",
       "      <th>6</th>\n",
       "      <th>7</th>\n",
       "      <th>8</th>\n",
       "      <th>9</th>\n",
       "      <th>...</th>\n",
       "      <th>90</th>\n",
       "      <th>91</th>\n",
       "      <th>92</th>\n",
       "      <th>93</th>\n",
       "      <th>94</th>\n",
       "      <th>95</th>\n",
       "      <th>96</th>\n",
       "      <th>97</th>\n",
       "      <th>98</th>\n",
       "      <th>99</th>\n",
       "    </tr>\n",
       "  </thead>\n",
       "  <tbody>\n",
       "    <tr>\n",
       "      <th>0</th>\n",
       "      <td>0.000491</td>\n",
       "      <td>0.002565</td>\n",
       "      <td>0.000496</td>\n",
       "      <td>0.003166</td>\n",
       "      <td>0.001912</td>\n",
       "      <td>0.001729</td>\n",
       "      <td>0.002203</td>\n",
       "      <td>0.003280</td>\n",
       "      <td>0.002087</td>\n",
       "      <td>0.003451</td>\n",
       "      <td>...</td>\n",
       "      <td>0.001061</td>\n",
       "      <td>0.002947</td>\n",
       "      <td>0.002347</td>\n",
       "      <td>0.002611</td>\n",
       "      <td>0.003789</td>\n",
       "      <td>0.001582</td>\n",
       "      <td>0.002800</td>\n",
       "      <td>0.001007</td>\n",
       "      <td>0.002237</td>\n",
       "      <td>0.001906</td>\n",
       "    </tr>\n",
       "    <tr>\n",
       "      <th>1</th>\n",
       "      <td>0.006542</td>\n",
       "      <td>0.003238</td>\n",
       "      <td>0.000041</td>\n",
       "      <td>0.006912</td>\n",
       "      <td>0.004540</td>\n",
       "      <td>0.001196</td>\n",
       "      <td>0.003651</td>\n",
       "      <td>0.008050</td>\n",
       "      <td>0.005526</td>\n",
       "      <td>0.006468</td>\n",
       "      <td>...</td>\n",
       "      <td>-0.000134</td>\n",
       "      <td>0.006052</td>\n",
       "      <td>0.003519</td>\n",
       "      <td>0.004832</td>\n",
       "      <td>0.005791</td>\n",
       "      <td>0.001247</td>\n",
       "      <td>0.001839</td>\n",
       "      <td>0.002161</td>\n",
       "      <td>0.007735</td>\n",
       "      <td>0.000847</td>\n",
       "    </tr>\n",
       "    <tr>\n",
       "      <th>2</th>\n",
       "      <td>0.002286</td>\n",
       "      <td>0.002325</td>\n",
       "      <td>-0.000817</td>\n",
       "      <td>0.003886</td>\n",
       "      <td>0.000983</td>\n",
       "      <td>0.001440</td>\n",
       "      <td>0.003813</td>\n",
       "      <td>0.002068</td>\n",
       "      <td>0.004235</td>\n",
       "      <td>0.004730</td>\n",
       "      <td>...</td>\n",
       "      <td>0.000969</td>\n",
       "      <td>0.001875</td>\n",
       "      <td>0.001817</td>\n",
       "      <td>0.001790</td>\n",
       "      <td>0.002191</td>\n",
       "      <td>0.002881</td>\n",
       "      <td>0.001148</td>\n",
       "      <td>0.000463</td>\n",
       "      <td>0.002284</td>\n",
       "      <td>0.000788</td>\n",
       "    </tr>\n",
       "    <tr>\n",
       "      <th>3</th>\n",
       "      <td>0.002256</td>\n",
       "      <td>0.003317</td>\n",
       "      <td>0.000295</td>\n",
       "      <td>0.004359</td>\n",
       "      <td>0.001462</td>\n",
       "      <td>0.000462</td>\n",
       "      <td>0.002459</td>\n",
       "      <td>0.006643</td>\n",
       "      <td>0.003007</td>\n",
       "      <td>0.004092</td>\n",
       "      <td>...</td>\n",
       "      <td>0.003350</td>\n",
       "      <td>0.002797</td>\n",
       "      <td>0.002373</td>\n",
       "      <td>0.001853</td>\n",
       "      <td>0.003932</td>\n",
       "      <td>0.002955</td>\n",
       "      <td>0.001711</td>\n",
       "      <td>0.001547</td>\n",
       "      <td>0.001895</td>\n",
       "      <td>0.002704</td>\n",
       "    </tr>\n",
       "    <tr>\n",
       "      <th>4</th>\n",
       "      <td>0.000625</td>\n",
       "      <td>0.002480</td>\n",
       "      <td>0.000658</td>\n",
       "      <td>0.003395</td>\n",
       "      <td>0.001882</td>\n",
       "      <td>0.001851</td>\n",
       "      <td>0.001937</td>\n",
       "      <td>0.002864</td>\n",
       "      <td>0.001609</td>\n",
       "      <td>0.003119</td>\n",
       "      <td>...</td>\n",
       "      <td>0.001372</td>\n",
       "      <td>0.002612</td>\n",
       "      <td>0.002152</td>\n",
       "      <td>0.001975</td>\n",
       "      <td>0.002891</td>\n",
       "      <td>0.001962</td>\n",
       "      <td>0.002857</td>\n",
       "      <td>0.001218</td>\n",
       "      <td>0.002077</td>\n",
       "      <td>0.002548</td>\n",
       "    </tr>\n",
       "    <tr>\n",
       "      <th>...</th>\n",
       "      <td>...</td>\n",
       "      <td>...</td>\n",
       "      <td>...</td>\n",
       "      <td>...</td>\n",
       "      <td>...</td>\n",
       "      <td>...</td>\n",
       "      <td>...</td>\n",
       "      <td>...</td>\n",
       "      <td>...</td>\n",
       "      <td>...</td>\n",
       "      <td>...</td>\n",
       "      <td>...</td>\n",
       "      <td>...</td>\n",
       "      <td>...</td>\n",
       "      <td>...</td>\n",
       "      <td>...</td>\n",
       "      <td>...</td>\n",
       "      <td>...</td>\n",
       "      <td>...</td>\n",
       "      <td>...</td>\n",
       "      <td>...</td>\n",
       "    </tr>\n",
       "    <tr>\n",
       "      <th>4996</th>\n",
       "      <td>-0.003256</td>\n",
       "      <td>0.011682</td>\n",
       "      <td>0.002696</td>\n",
       "      <td>0.007488</td>\n",
       "      <td>0.001127</td>\n",
       "      <td>-0.002717</td>\n",
       "      <td>0.010537</td>\n",
       "      <td>0.009743</td>\n",
       "      <td>0.006069</td>\n",
       "      <td>0.011530</td>\n",
       "      <td>...</td>\n",
       "      <td>0.001620</td>\n",
       "      <td>0.007424</td>\n",
       "      <td>0.009928</td>\n",
       "      <td>0.013842</td>\n",
       "      <td>-0.002345</td>\n",
       "      <td>0.006999</td>\n",
       "      <td>0.005068</td>\n",
       "      <td>0.011291</td>\n",
       "      <td>0.001995</td>\n",
       "      <td>0.008794</td>\n",
       "    </tr>\n",
       "    <tr>\n",
       "      <th>4997</th>\n",
       "      <td>-0.001762</td>\n",
       "      <td>0.005376</td>\n",
       "      <td>0.000989</td>\n",
       "      <td>0.000249</td>\n",
       "      <td>0.002013</td>\n",
       "      <td>0.004370</td>\n",
       "      <td>0.000311</td>\n",
       "      <td>0.006013</td>\n",
       "      <td>0.003503</td>\n",
       "      <td>0.002559</td>\n",
       "      <td>...</td>\n",
       "      <td>0.009163</td>\n",
       "      <td>0.005091</td>\n",
       "      <td>0.001460</td>\n",
       "      <td>0.006207</td>\n",
       "      <td>0.013917</td>\n",
       "      <td>-0.000154</td>\n",
       "      <td>0.001468</td>\n",
       "      <td>0.002310</td>\n",
       "      <td>0.000571</td>\n",
       "      <td>0.002870</td>\n",
       "    </tr>\n",
       "    <tr>\n",
       "      <th>4998</th>\n",
       "      <td>-0.001139</td>\n",
       "      <td>0.002655</td>\n",
       "      <td>0.002938</td>\n",
       "      <td>0.003406</td>\n",
       "      <td>-0.001865</td>\n",
       "      <td>0.004568</td>\n",
       "      <td>0.006343</td>\n",
       "      <td>0.004867</td>\n",
       "      <td>0.005336</td>\n",
       "      <td>0.004143</td>\n",
       "      <td>...</td>\n",
       "      <td>0.004830</td>\n",
       "      <td>0.001056</td>\n",
       "      <td>0.001971</td>\n",
       "      <td>-0.000977</td>\n",
       "      <td>0.005807</td>\n",
       "      <td>0.008134</td>\n",
       "      <td>0.005265</td>\n",
       "      <td>-0.000819</td>\n",
       "      <td>0.001526</td>\n",
       "      <td>0.007339</td>\n",
       "    </tr>\n",
       "    <tr>\n",
       "      <th>4999</th>\n",
       "      <td>0.000222</td>\n",
       "      <td>0.004978</td>\n",
       "      <td>0.004566</td>\n",
       "      <td>0.002540</td>\n",
       "      <td>0.004600</td>\n",
       "      <td>0.005756</td>\n",
       "      <td>-0.001140</td>\n",
       "      <td>0.005786</td>\n",
       "      <td>0.003564</td>\n",
       "      <td>0.004251</td>\n",
       "      <td>...</td>\n",
       "      <td>0.003393</td>\n",
       "      <td>0.006586</td>\n",
       "      <td>0.007101</td>\n",
       "      <td>0.006748</td>\n",
       "      <td>0.009817</td>\n",
       "      <td>0.001962</td>\n",
       "      <td>0.005036</td>\n",
       "      <td>0.003262</td>\n",
       "      <td>0.002136</td>\n",
       "      <td>0.003413</td>\n",
       "    </tr>\n",
       "    <tr>\n",
       "      <th>5000</th>\n",
       "      <td>-0.005702</td>\n",
       "      <td>0.007477</td>\n",
       "      <td>0.001247</td>\n",
       "      <td>0.011024</td>\n",
       "      <td>0.004766</td>\n",
       "      <td>0.000223</td>\n",
       "      <td>0.007015</td>\n",
       "      <td>0.004853</td>\n",
       "      <td>0.004487</td>\n",
       "      <td>0.003705</td>\n",
       "      <td>...</td>\n",
       "      <td>0.006161</td>\n",
       "      <td>0.002201</td>\n",
       "      <td>0.010725</td>\n",
       "      <td>0.008631</td>\n",
       "      <td>0.006694</td>\n",
       "      <td>0.000684</td>\n",
       "      <td>0.001735</td>\n",
       "      <td>0.001378</td>\n",
       "      <td>0.008758</td>\n",
       "      <td>0.004848</td>\n",
       "    </tr>\n",
       "  </tbody>\n",
       "</table>\n",
       "<p>5001 rows × 100 columns</p>\n",
       "</div>"
      ],
      "text/plain": [
       "            0         1         2         3         4         5         6   \\\n",
       "0     0.000491  0.002565  0.000496  0.003166  0.001912  0.001729  0.002203   \n",
       "1     0.006542  0.003238  0.000041  0.006912  0.004540  0.001196  0.003651   \n",
       "2     0.002286  0.002325 -0.000817  0.003886  0.000983  0.001440  0.003813   \n",
       "3     0.002256  0.003317  0.000295  0.004359  0.001462  0.000462  0.002459   \n",
       "4     0.000625  0.002480  0.000658  0.003395  0.001882  0.001851  0.001937   \n",
       "...        ...       ...       ...       ...       ...       ...       ...   \n",
       "4996 -0.003256  0.011682  0.002696  0.007488  0.001127 -0.002717  0.010537   \n",
       "4997 -0.001762  0.005376  0.000989  0.000249  0.002013  0.004370  0.000311   \n",
       "4998 -0.001139  0.002655  0.002938  0.003406 -0.001865  0.004568  0.006343   \n",
       "4999  0.000222  0.004978  0.004566  0.002540  0.004600  0.005756 -0.001140   \n",
       "5000 -0.005702  0.007477  0.001247  0.011024  0.004766  0.000223  0.007015   \n",
       "\n",
       "            7         8         9   ...        90        91        92  \\\n",
       "0     0.003280  0.002087  0.003451  ...  0.001061  0.002947  0.002347   \n",
       "1     0.008050  0.005526  0.006468  ... -0.000134  0.006052  0.003519   \n",
       "2     0.002068  0.004235  0.004730  ...  0.000969  0.001875  0.001817   \n",
       "3     0.006643  0.003007  0.004092  ...  0.003350  0.002797  0.002373   \n",
       "4     0.002864  0.001609  0.003119  ...  0.001372  0.002612  0.002152   \n",
       "...        ...       ...       ...  ...       ...       ...       ...   \n",
       "4996  0.009743  0.006069  0.011530  ...  0.001620  0.007424  0.009928   \n",
       "4997  0.006013  0.003503  0.002559  ...  0.009163  0.005091  0.001460   \n",
       "4998  0.004867  0.005336  0.004143  ...  0.004830  0.001056  0.001971   \n",
       "4999  0.005786  0.003564  0.004251  ...  0.003393  0.006586  0.007101   \n",
       "5000  0.004853  0.004487  0.003705  ...  0.006161  0.002201  0.010725   \n",
       "\n",
       "            93        94        95        96        97        98        99  \n",
       "0     0.002611  0.003789  0.001582  0.002800  0.001007  0.002237  0.001906  \n",
       "1     0.004832  0.005791  0.001247  0.001839  0.002161  0.007735  0.000847  \n",
       "2     0.001790  0.002191  0.002881  0.001148  0.000463  0.002284  0.000788  \n",
       "3     0.001853  0.003932  0.002955  0.001711  0.001547  0.001895  0.002704  \n",
       "4     0.001975  0.002891  0.001962  0.002857  0.001218  0.002077  0.002548  \n",
       "...        ...       ...       ...       ...       ...       ...       ...  \n",
       "4996  0.013842 -0.002345  0.006999  0.005068  0.011291  0.001995  0.008794  \n",
       "4997  0.006207  0.013917 -0.000154  0.001468  0.002310  0.000571  0.002870  \n",
       "4998 -0.000977  0.005807  0.008134  0.005265 -0.000819  0.001526  0.007339  \n",
       "4999  0.006748  0.009817  0.001962  0.005036  0.003262  0.002136  0.003413  \n",
       "5000  0.008631  0.006694  0.000684  0.001735  0.001378  0.008758  0.004848  \n",
       "\n",
       "[5001 rows x 100 columns]"
      ]
     },
     "execution_count": 19,
     "metadata": {},
     "output_type": "execute_result"
    }
   ],
   "source": [
    "pd.DataFrame(model.item_factors)"
   ]
  },
  {
   "cell_type": "code",
   "execution_count": 20,
   "metadata": {
    "id": "s0uphbU-IHyq",
    "outputId": "5a316e3e-554c-4a06-acab-8e4b7db454ef"
   },
   "outputs": [
    {
     "data": {
      "text/plain": [
       "(2499, 100)"
      ]
     },
     "execution_count": 20,
     "metadata": {},
     "output_type": "execute_result"
    }
   ],
   "source": [
    "model.user_factors.shape"
   ]
  },
  {
   "cell_type": "code",
   "execution_count": 21,
   "metadata": {},
   "outputs": [
    {
     "data": {
      "text/html": [
       "<div>\n",
       "<style scoped>\n",
       "    .dataframe tbody tr th:only-of-type {\n",
       "        vertical-align: middle;\n",
       "    }\n",
       "\n",
       "    .dataframe tbody tr th {\n",
       "        vertical-align: top;\n",
       "    }\n",
       "\n",
       "    .dataframe thead th {\n",
       "        text-align: right;\n",
       "    }\n",
       "</style>\n",
       "<table border=\"1\" class=\"dataframe\">\n",
       "  <thead>\n",
       "    <tr style=\"text-align: right;\">\n",
       "      <th></th>\n",
       "      <th>0</th>\n",
       "      <th>1</th>\n",
       "      <th>2</th>\n",
       "      <th>3</th>\n",
       "      <th>4</th>\n",
       "      <th>5</th>\n",
       "      <th>6</th>\n",
       "      <th>7</th>\n",
       "      <th>8</th>\n",
       "      <th>9</th>\n",
       "      <th>...</th>\n",
       "      <th>90</th>\n",
       "      <th>91</th>\n",
       "      <th>92</th>\n",
       "      <th>93</th>\n",
       "      <th>94</th>\n",
       "      <th>95</th>\n",
       "      <th>96</th>\n",
       "      <th>97</th>\n",
       "      <th>98</th>\n",
       "      <th>99</th>\n",
       "    </tr>\n",
       "  </thead>\n",
       "  <tbody>\n",
       "    <tr>\n",
       "      <th>0</th>\n",
       "      <td>12.533318</td>\n",
       "      <td>0.281050</td>\n",
       "      <td>6.947406</td>\n",
       "      <td>-1.763400</td>\n",
       "      <td>-2.128716</td>\n",
       "      <td>3.831446</td>\n",
       "      <td>-1.201321</td>\n",
       "      <td>-1.893744</td>\n",
       "      <td>-0.181169</td>\n",
       "      <td>6.054410</td>\n",
       "      <td>...</td>\n",
       "      <td>1.135804</td>\n",
       "      <td>3.896221</td>\n",
       "      <td>5.394272</td>\n",
       "      <td>-4.055463</td>\n",
       "      <td>4.723475</td>\n",
       "      <td>2.001220</td>\n",
       "      <td>0.316686</td>\n",
       "      <td>-2.692487</td>\n",
       "      <td>-4.999817</td>\n",
       "      <td>5.937756</td>\n",
       "    </tr>\n",
       "    <tr>\n",
       "      <th>1</th>\n",
       "      <td>3.552746</td>\n",
       "      <td>1.670314</td>\n",
       "      <td>3.117848</td>\n",
       "      <td>-2.775759</td>\n",
       "      <td>4.995367</td>\n",
       "      <td>2.109510</td>\n",
       "      <td>-4.830534</td>\n",
       "      <td>-0.771017</td>\n",
       "      <td>0.188729</td>\n",
       "      <td>4.247021</td>\n",
       "      <td>...</td>\n",
       "      <td>4.104268</td>\n",
       "      <td>3.726420</td>\n",
       "      <td>3.012921</td>\n",
       "      <td>2.917902</td>\n",
       "      <td>4.214917</td>\n",
       "      <td>6.297536</td>\n",
       "      <td>-5.565514</td>\n",
       "      <td>2.350239</td>\n",
       "      <td>0.008209</td>\n",
       "      <td>1.064680</td>\n",
       "    </tr>\n",
       "    <tr>\n",
       "      <th>2</th>\n",
       "      <td>1.186494</td>\n",
       "      <td>2.589062</td>\n",
       "      <td>2.483264</td>\n",
       "      <td>-4.806982</td>\n",
       "      <td>5.439695</td>\n",
       "      <td>1.475907</td>\n",
       "      <td>4.390594</td>\n",
       "      <td>-0.568727</td>\n",
       "      <td>-2.788572</td>\n",
       "      <td>-3.914188</td>\n",
       "      <td>...</td>\n",
       "      <td>1.951826</td>\n",
       "      <td>6.251142</td>\n",
       "      <td>0.274499</td>\n",
       "      <td>1.840393</td>\n",
       "      <td>3.997544</td>\n",
       "      <td>5.705418</td>\n",
       "      <td>-8.075367</td>\n",
       "      <td>2.481050</td>\n",
       "      <td>-4.350789</td>\n",
       "      <td>1.841804</td>\n",
       "    </tr>\n",
       "    <tr>\n",
       "      <th>3</th>\n",
       "      <td>2.416940</td>\n",
       "      <td>3.234541</td>\n",
       "      <td>1.489915</td>\n",
       "      <td>0.083201</td>\n",
       "      <td>0.063310</td>\n",
       "      <td>-1.245840</td>\n",
       "      <td>-0.810997</td>\n",
       "      <td>-0.880694</td>\n",
       "      <td>-1.250093</td>\n",
       "      <td>4.527437</td>\n",
       "      <td>...</td>\n",
       "      <td>-0.070415</td>\n",
       "      <td>2.689102</td>\n",
       "      <td>0.437762</td>\n",
       "      <td>-1.191720</td>\n",
       "      <td>4.457641</td>\n",
       "      <td>1.324896</td>\n",
       "      <td>-3.110376</td>\n",
       "      <td>-1.657256</td>\n",
       "      <td>-2.188704</td>\n",
       "      <td>2.312640</td>\n",
       "    </tr>\n",
       "    <tr>\n",
       "      <th>4</th>\n",
       "      <td>2.825771</td>\n",
       "      <td>3.792385</td>\n",
       "      <td>2.717137</td>\n",
       "      <td>-3.657989</td>\n",
       "      <td>0.960987</td>\n",
       "      <td>-0.046022</td>\n",
       "      <td>-0.325789</td>\n",
       "      <td>0.417078</td>\n",
       "      <td>-3.557213</td>\n",
       "      <td>2.660130</td>\n",
       "      <td>...</td>\n",
       "      <td>0.489085</td>\n",
       "      <td>4.209881</td>\n",
       "      <td>0.196953</td>\n",
       "      <td>-0.001288</td>\n",
       "      <td>1.717840</td>\n",
       "      <td>2.939892</td>\n",
       "      <td>-1.411069</td>\n",
       "      <td>-0.740657</td>\n",
       "      <td>-0.460931</td>\n",
       "      <td>3.790267</td>\n",
       "    </tr>\n",
       "    <tr>\n",
       "      <th>...</th>\n",
       "      <td>...</td>\n",
       "      <td>...</td>\n",
       "      <td>...</td>\n",
       "      <td>...</td>\n",
       "      <td>...</td>\n",
       "      <td>...</td>\n",
       "      <td>...</td>\n",
       "      <td>...</td>\n",
       "      <td>...</td>\n",
       "      <td>...</td>\n",
       "      <td>...</td>\n",
       "      <td>...</td>\n",
       "      <td>...</td>\n",
       "      <td>...</td>\n",
       "      <td>...</td>\n",
       "      <td>...</td>\n",
       "      <td>...</td>\n",
       "      <td>...</td>\n",
       "      <td>...</td>\n",
       "      <td>...</td>\n",
       "      <td>...</td>\n",
       "    </tr>\n",
       "    <tr>\n",
       "      <th>2494</th>\n",
       "      <td>5.039094</td>\n",
       "      <td>3.379466</td>\n",
       "      <td>3.674034</td>\n",
       "      <td>-4.036381</td>\n",
       "      <td>-2.123153</td>\n",
       "      <td>11.148289</td>\n",
       "      <td>-5.345170</td>\n",
       "      <td>2.921895</td>\n",
       "      <td>-1.474671</td>\n",
       "      <td>7.409273</td>\n",
       "      <td>...</td>\n",
       "      <td>3.365891</td>\n",
       "      <td>-0.991345</td>\n",
       "      <td>3.412273</td>\n",
       "      <td>-0.126422</td>\n",
       "      <td>1.473746</td>\n",
       "      <td>-1.835340</td>\n",
       "      <td>1.984730</td>\n",
       "      <td>-3.623282</td>\n",
       "      <td>0.484769</td>\n",
       "      <td>4.377414</td>\n",
       "    </tr>\n",
       "    <tr>\n",
       "      <th>2495</th>\n",
       "      <td>7.166578</td>\n",
       "      <td>-1.951895</td>\n",
       "      <td>1.747759</td>\n",
       "      <td>-4.301858</td>\n",
       "      <td>2.583551</td>\n",
       "      <td>0.343082</td>\n",
       "      <td>-2.968083</td>\n",
       "      <td>-3.006284</td>\n",
       "      <td>-1.244038</td>\n",
       "      <td>4.719306</td>\n",
       "      <td>...</td>\n",
       "      <td>-6.901146</td>\n",
       "      <td>-4.805286</td>\n",
       "      <td>5.616894</td>\n",
       "      <td>0.884260</td>\n",
       "      <td>4.332373</td>\n",
       "      <td>7.413620</td>\n",
       "      <td>-6.159646</td>\n",
       "      <td>0.985319</td>\n",
       "      <td>-1.720120</td>\n",
       "      <td>6.939039</td>\n",
       "    </tr>\n",
       "    <tr>\n",
       "      <th>2496</th>\n",
       "      <td>1.627235</td>\n",
       "      <td>1.172652</td>\n",
       "      <td>4.287278</td>\n",
       "      <td>-4.915984</td>\n",
       "      <td>-3.410077</td>\n",
       "      <td>-2.469779</td>\n",
       "      <td>-1.559964</td>\n",
       "      <td>-2.596953</td>\n",
       "      <td>-2.332079</td>\n",
       "      <td>2.888507</td>\n",
       "      <td>...</td>\n",
       "      <td>5.021236</td>\n",
       "      <td>3.852991</td>\n",
       "      <td>2.828418</td>\n",
       "      <td>1.396596</td>\n",
       "      <td>2.507611</td>\n",
       "      <td>1.591080</td>\n",
       "      <td>-1.070463</td>\n",
       "      <td>-2.260586</td>\n",
       "      <td>0.509469</td>\n",
       "      <td>3.743619</td>\n",
       "    </tr>\n",
       "    <tr>\n",
       "      <th>2497</th>\n",
       "      <td>3.532630</td>\n",
       "      <td>1.344005</td>\n",
       "      <td>1.387979</td>\n",
       "      <td>-0.307691</td>\n",
       "      <td>-1.718774</td>\n",
       "      <td>0.936078</td>\n",
       "      <td>0.209753</td>\n",
       "      <td>-2.688399</td>\n",
       "      <td>3.028986</td>\n",
       "      <td>2.677645</td>\n",
       "      <td>...</td>\n",
       "      <td>-0.800132</td>\n",
       "      <td>5.765162</td>\n",
       "      <td>-0.537972</td>\n",
       "      <td>3.659450</td>\n",
       "      <td>4.927104</td>\n",
       "      <td>3.366170</td>\n",
       "      <td>-6.420533</td>\n",
       "      <td>1.593810</td>\n",
       "      <td>1.732142</td>\n",
       "      <td>0.972153</td>\n",
       "    </tr>\n",
       "    <tr>\n",
       "      <th>2498</th>\n",
       "      <td>10.453553</td>\n",
       "      <td>-0.228833</td>\n",
       "      <td>-0.118510</td>\n",
       "      <td>-10.140162</td>\n",
       "      <td>-0.238249</td>\n",
       "      <td>4.773559</td>\n",
       "      <td>-4.369426</td>\n",
       "      <td>3.361939</td>\n",
       "      <td>-3.652008</td>\n",
       "      <td>2.160018</td>\n",
       "      <td>...</td>\n",
       "      <td>0.662693</td>\n",
       "      <td>5.595906</td>\n",
       "      <td>2.272107</td>\n",
       "      <td>-0.994884</td>\n",
       "      <td>-0.104488</td>\n",
       "      <td>7.237933</td>\n",
       "      <td>-2.100025</td>\n",
       "      <td>-1.158064</td>\n",
       "      <td>-2.339029</td>\n",
       "      <td>3.186880</td>\n",
       "    </tr>\n",
       "  </tbody>\n",
       "</table>\n",
       "<p>2499 rows × 100 columns</p>\n",
       "</div>"
      ],
      "text/plain": [
       "             0         1         2          3         4          5         6   \\\n",
       "0     12.533318  0.281050  6.947406  -1.763400 -2.128716   3.831446 -1.201321   \n",
       "1      3.552746  1.670314  3.117848  -2.775759  4.995367   2.109510 -4.830534   \n",
       "2      1.186494  2.589062  2.483264  -4.806982  5.439695   1.475907  4.390594   \n",
       "3      2.416940  3.234541  1.489915   0.083201  0.063310  -1.245840 -0.810997   \n",
       "4      2.825771  3.792385  2.717137  -3.657989  0.960987  -0.046022 -0.325789   \n",
       "...         ...       ...       ...        ...       ...        ...       ...   \n",
       "2494   5.039094  3.379466  3.674034  -4.036381 -2.123153  11.148289 -5.345170   \n",
       "2495   7.166578 -1.951895  1.747759  -4.301858  2.583551   0.343082 -2.968083   \n",
       "2496   1.627235  1.172652  4.287278  -4.915984 -3.410077  -2.469779 -1.559964   \n",
       "2497   3.532630  1.344005  1.387979  -0.307691 -1.718774   0.936078  0.209753   \n",
       "2498  10.453553 -0.228833 -0.118510 -10.140162 -0.238249   4.773559 -4.369426   \n",
       "\n",
       "            7         8         9   ...        90        91        92  \\\n",
       "0    -1.893744 -0.181169  6.054410  ...  1.135804  3.896221  5.394272   \n",
       "1    -0.771017  0.188729  4.247021  ...  4.104268  3.726420  3.012921   \n",
       "2    -0.568727 -2.788572 -3.914188  ...  1.951826  6.251142  0.274499   \n",
       "3    -0.880694 -1.250093  4.527437  ... -0.070415  2.689102  0.437762   \n",
       "4     0.417078 -3.557213  2.660130  ...  0.489085  4.209881  0.196953   \n",
       "...        ...       ...       ...  ...       ...       ...       ...   \n",
       "2494  2.921895 -1.474671  7.409273  ...  3.365891 -0.991345  3.412273   \n",
       "2495 -3.006284 -1.244038  4.719306  ... -6.901146 -4.805286  5.616894   \n",
       "2496 -2.596953 -2.332079  2.888507  ...  5.021236  3.852991  2.828418   \n",
       "2497 -2.688399  3.028986  2.677645  ... -0.800132  5.765162 -0.537972   \n",
       "2498  3.361939 -3.652008  2.160018  ...  0.662693  5.595906  2.272107   \n",
       "\n",
       "            93        94        95        96        97        98        99  \n",
       "0    -4.055463  4.723475  2.001220  0.316686 -2.692487 -4.999817  5.937756  \n",
       "1     2.917902  4.214917  6.297536 -5.565514  2.350239  0.008209  1.064680  \n",
       "2     1.840393  3.997544  5.705418 -8.075367  2.481050 -4.350789  1.841804  \n",
       "3    -1.191720  4.457641  1.324896 -3.110376 -1.657256 -2.188704  2.312640  \n",
       "4    -0.001288  1.717840  2.939892 -1.411069 -0.740657 -0.460931  3.790267  \n",
       "...        ...       ...       ...       ...       ...       ...       ...  \n",
       "2494 -0.126422  1.473746 -1.835340  1.984730 -3.623282  0.484769  4.377414  \n",
       "2495  0.884260  4.332373  7.413620 -6.159646  0.985319 -1.720120  6.939039  \n",
       "2496  1.396596  2.507611  1.591080 -1.070463 -2.260586  0.509469  3.743619  \n",
       "2497  3.659450  4.927104  3.366170 -6.420533  1.593810  1.732142  0.972153  \n",
       "2498 -0.994884 -0.104488  7.237933 -2.100025 -1.158064 -2.339029  3.186880  \n",
       "\n",
       "[2499 rows x 100 columns]"
      ]
     },
     "execution_count": 21,
     "metadata": {},
     "output_type": "execute_result"
    }
   ],
   "source": [
    "pd.DataFrame(model.user_factors)"
   ]
  },
  {
   "cell_type": "markdown",
   "metadata": {
    "id": "cf_zr75GIHyq"
   },
   "source": [
    "Можно очень быстро посчитать предсказания, перемножив эти 2 матрицы"
   ]
  },
  {
   "cell_type": "code",
   "execution_count": 22,
   "metadata": {
    "id": "XzuTn_FEIHyq",
    "outputId": "6910419f-dc8a-445e-a90f-2b9ccc2fcd65"
   },
   "outputs": [
    {
     "data": {
      "text/plain": [
       "(2499, 5001)"
      ]
     },
     "execution_count": 22,
     "metadata": {},
     "output_type": "execute_result"
    }
   ],
   "source": [
    "fast_recs = model.user_factors @ model.item_factors.T \n",
    "fast_recs.shape"
   ]
  },
  {
   "cell_type": "code",
   "execution_count": 23,
   "metadata": {},
   "outputs": [
    {
     "data": {
      "text/html": [
       "<div>\n",
       "<style scoped>\n",
       "    .dataframe tbody tr th:only-of-type {\n",
       "        vertical-align: middle;\n",
       "    }\n",
       "\n",
       "    .dataframe tbody tr th {\n",
       "        vertical-align: top;\n",
       "    }\n",
       "\n",
       "    .dataframe thead th {\n",
       "        text-align: right;\n",
       "    }\n",
       "</style>\n",
       "<table border=\"1\" class=\"dataframe\">\n",
       "  <thead>\n",
       "    <tr style=\"text-align: right;\">\n",
       "      <th></th>\n",
       "      <th>0</th>\n",
       "      <th>1</th>\n",
       "      <th>2</th>\n",
       "      <th>3</th>\n",
       "      <th>4</th>\n",
       "      <th>5</th>\n",
       "      <th>6</th>\n",
       "      <th>7</th>\n",
       "      <th>8</th>\n",
       "      <th>9</th>\n",
       "      <th>...</th>\n",
       "      <th>4991</th>\n",
       "      <th>4992</th>\n",
       "      <th>4993</th>\n",
       "      <th>4994</th>\n",
       "      <th>4995</th>\n",
       "      <th>4996</th>\n",
       "      <th>4997</th>\n",
       "      <th>4998</th>\n",
       "      <th>4999</th>\n",
       "      <th>5000</th>\n",
       "    </tr>\n",
       "  </thead>\n",
       "  <tbody>\n",
       "    <tr>\n",
       "      <th>0</th>\n",
       "      <td>0.004651</td>\n",
       "      <td>0.071570</td>\n",
       "      <td>-0.027717</td>\n",
       "      <td>-0.037941</td>\n",
       "      <td>0.014600</td>\n",
       "      <td>0.003751</td>\n",
       "      <td>0.022800</td>\n",
       "      <td>0.281613</td>\n",
       "      <td>0.038201</td>\n",
       "      <td>-0.029081</td>\n",
       "      <td>...</td>\n",
       "      <td>0.145538</td>\n",
       "      <td>0.092401</td>\n",
       "      <td>0.358667</td>\n",
       "      <td>0.146256</td>\n",
       "      <td>0.373060</td>\n",
       "      <td>0.098133</td>\n",
       "      <td>-0.035926</td>\n",
       "      <td>0.091943</td>\n",
       "      <td>0.072221</td>\n",
       "      <td>-0.059761</td>\n",
       "    </tr>\n",
       "    <tr>\n",
       "      <th>1</th>\n",
       "      <td>-0.004795</td>\n",
       "      <td>0.046799</td>\n",
       "      <td>-0.026035</td>\n",
       "      <td>0.000002</td>\n",
       "      <td>-0.007348</td>\n",
       "      <td>-0.009780</td>\n",
       "      <td>-0.017612</td>\n",
       "      <td>0.039241</td>\n",
       "      <td>0.061586</td>\n",
       "      <td>-0.014043</td>\n",
       "      <td>...</td>\n",
       "      <td>0.030711</td>\n",
       "      <td>0.006685</td>\n",
       "      <td>0.029074</td>\n",
       "      <td>0.064026</td>\n",
       "      <td>0.048139</td>\n",
       "      <td>0.028731</td>\n",
       "      <td>0.082528</td>\n",
       "      <td>-0.109411</td>\n",
       "      <td>0.069319</td>\n",
       "      <td>0.020840</td>\n",
       "    </tr>\n",
       "    <tr>\n",
       "      <th>2</th>\n",
       "      <td>-0.029375</td>\n",
       "      <td>-0.014126</td>\n",
       "      <td>0.011029</td>\n",
       "      <td>-0.051348</td>\n",
       "      <td>-0.020782</td>\n",
       "      <td>-0.012137</td>\n",
       "      <td>-0.027784</td>\n",
       "      <td>0.063237</td>\n",
       "      <td>0.023245</td>\n",
       "      <td>0.082193</td>\n",
       "      <td>...</td>\n",
       "      <td>0.003941</td>\n",
       "      <td>-0.073157</td>\n",
       "      <td>0.175241</td>\n",
       "      <td>0.193597</td>\n",
       "      <td>0.161033</td>\n",
       "      <td>0.221680</td>\n",
       "      <td>0.115487</td>\n",
       "      <td>-0.052190</td>\n",
       "      <td>0.088438</td>\n",
       "      <td>0.023843</td>\n",
       "    </tr>\n",
       "    <tr>\n",
       "      <th>3</th>\n",
       "      <td>0.006233</td>\n",
       "      <td>0.089320</td>\n",
       "      <td>0.044099</td>\n",
       "      <td>0.058791</td>\n",
       "      <td>0.011144</td>\n",
       "      <td>0.013531</td>\n",
       "      <td>0.001107</td>\n",
       "      <td>0.129368</td>\n",
       "      <td>0.051529</td>\n",
       "      <td>0.042849</td>\n",
       "      <td>...</td>\n",
       "      <td>0.040807</td>\n",
       "      <td>0.022837</td>\n",
       "      <td>-0.002037</td>\n",
       "      <td>-0.021462</td>\n",
       "      <td>0.034566</td>\n",
       "      <td>0.045303</td>\n",
       "      <td>0.050912</td>\n",
       "      <td>0.057501</td>\n",
       "      <td>0.018911</td>\n",
       "      <td>0.054744</td>\n",
       "    </tr>\n",
       "    <tr>\n",
       "      <th>4</th>\n",
       "      <td>-0.001769</td>\n",
       "      <td>0.044358</td>\n",
       "      <td>-0.004025</td>\n",
       "      <td>0.028780</td>\n",
       "      <td>0.003352</td>\n",
       "      <td>-0.000448</td>\n",
       "      <td>-0.002815</td>\n",
       "      <td>0.038180</td>\n",
       "      <td>0.025538</td>\n",
       "      <td>0.009408</td>\n",
       "      <td>...</td>\n",
       "      <td>-0.001441</td>\n",
       "      <td>-0.004894</td>\n",
       "      <td>0.009775</td>\n",
       "      <td>0.079591</td>\n",
       "      <td>0.057185</td>\n",
       "      <td>-0.034001</td>\n",
       "      <td>0.039253</td>\n",
       "      <td>-0.022396</td>\n",
       "      <td>0.020123</td>\n",
       "      <td>-0.023192</td>\n",
       "    </tr>\n",
       "    <tr>\n",
       "      <th>...</th>\n",
       "      <td>...</td>\n",
       "      <td>...</td>\n",
       "      <td>...</td>\n",
       "      <td>...</td>\n",
       "      <td>...</td>\n",
       "      <td>...</td>\n",
       "      <td>...</td>\n",
       "      <td>...</td>\n",
       "      <td>...</td>\n",
       "      <td>...</td>\n",
       "      <td>...</td>\n",
       "      <td>...</td>\n",
       "      <td>...</td>\n",
       "      <td>...</td>\n",
       "      <td>...</td>\n",
       "      <td>...</td>\n",
       "      <td>...</td>\n",
       "      <td>...</td>\n",
       "      <td>...</td>\n",
       "      <td>...</td>\n",
       "      <td>...</td>\n",
       "    </tr>\n",
       "    <tr>\n",
       "      <th>2494</th>\n",
       "      <td>0.008711</td>\n",
       "      <td>-0.001800</td>\n",
       "      <td>0.043413</td>\n",
       "      <td>0.042772</td>\n",
       "      <td>0.006270</td>\n",
       "      <td>0.015664</td>\n",
       "      <td>-0.021864</td>\n",
       "      <td>0.096590</td>\n",
       "      <td>-0.143792</td>\n",
       "      <td>-0.104497</td>\n",
       "      <td>...</td>\n",
       "      <td>0.038191</td>\n",
       "      <td>-0.069605</td>\n",
       "      <td>0.093665</td>\n",
       "      <td>0.118997</td>\n",
       "      <td>0.164819</td>\n",
       "      <td>0.157093</td>\n",
       "      <td>0.126064</td>\n",
       "      <td>-0.017103</td>\n",
       "      <td>0.126315</td>\n",
       "      <td>0.091563</td>\n",
       "    </tr>\n",
       "    <tr>\n",
       "      <th>2495</th>\n",
       "      <td>0.019220</td>\n",
       "      <td>0.115578</td>\n",
       "      <td>0.053833</td>\n",
       "      <td>-0.043447</td>\n",
       "      <td>0.009340</td>\n",
       "      <td>0.013542</td>\n",
       "      <td>0.043964</td>\n",
       "      <td>0.100403</td>\n",
       "      <td>0.050972</td>\n",
       "      <td>0.263277</td>\n",
       "      <td>...</td>\n",
       "      <td>0.057497</td>\n",
       "      <td>0.310899</td>\n",
       "      <td>0.192715</td>\n",
       "      <td>0.177343</td>\n",
       "      <td>0.126454</td>\n",
       "      <td>0.175485</td>\n",
       "      <td>0.049102</td>\n",
       "      <td>0.015428</td>\n",
       "      <td>0.135329</td>\n",
       "      <td>0.071547</td>\n",
       "    </tr>\n",
       "    <tr>\n",
       "      <th>2496</th>\n",
       "      <td>0.052214</td>\n",
       "      <td>0.068518</td>\n",
       "      <td>-0.004140</td>\n",
       "      <td>0.020267</td>\n",
       "      <td>0.003333</td>\n",
       "      <td>-0.001297</td>\n",
       "      <td>0.007680</td>\n",
       "      <td>-0.142856</td>\n",
       "      <td>-0.000575</td>\n",
       "      <td>0.029476</td>\n",
       "      <td>...</td>\n",
       "      <td>0.020155</td>\n",
       "      <td>0.126520</td>\n",
       "      <td>0.050061</td>\n",
       "      <td>0.121075</td>\n",
       "      <td>0.226724</td>\n",
       "      <td>0.145791</td>\n",
       "      <td>0.051196</td>\n",
       "      <td>0.029750</td>\n",
       "      <td>0.040932</td>\n",
       "      <td>0.099006</td>\n",
       "    </tr>\n",
       "    <tr>\n",
       "      <th>2497</th>\n",
       "      <td>-0.013528</td>\n",
       "      <td>0.121268</td>\n",
       "      <td>0.025346</td>\n",
       "      <td>-0.026244</td>\n",
       "      <td>-0.016669</td>\n",
       "      <td>-0.008109</td>\n",
       "      <td>-0.005851</td>\n",
       "      <td>0.062824</td>\n",
       "      <td>0.364188</td>\n",
       "      <td>0.082592</td>\n",
       "      <td>...</td>\n",
       "      <td>0.006595</td>\n",
       "      <td>-0.055937</td>\n",
       "      <td>0.045867</td>\n",
       "      <td>-0.050784</td>\n",
       "      <td>0.080551</td>\n",
       "      <td>0.069767</td>\n",
       "      <td>0.145105</td>\n",
       "      <td>0.008987</td>\n",
       "      <td>0.000841</td>\n",
       "      <td>0.198955</td>\n",
       "    </tr>\n",
       "    <tr>\n",
       "      <th>2498</th>\n",
       "      <td>0.005977</td>\n",
       "      <td>0.034939</td>\n",
       "      <td>-0.001080</td>\n",
       "      <td>0.102218</td>\n",
       "      <td>0.014559</td>\n",
       "      <td>0.006803</td>\n",
       "      <td>-0.002203</td>\n",
       "      <td>-0.005971</td>\n",
       "      <td>0.050644</td>\n",
       "      <td>-0.021123</td>\n",
       "      <td>...</td>\n",
       "      <td>0.097955</td>\n",
       "      <td>0.043711</td>\n",
       "      <td>0.149459</td>\n",
       "      <td>0.038968</td>\n",
       "      <td>0.321457</td>\n",
       "      <td>0.002573</td>\n",
       "      <td>0.088394</td>\n",
       "      <td>0.044314</td>\n",
       "      <td>0.132950</td>\n",
       "      <td>-0.099615</td>\n",
       "    </tr>\n",
       "  </tbody>\n",
       "</table>\n",
       "<p>2499 rows × 5001 columns</p>\n",
       "</div>"
      ],
      "text/plain": [
       "          0         1         2         3         4         5         6     \\\n",
       "0     0.004651  0.071570 -0.027717 -0.037941  0.014600  0.003751  0.022800   \n",
       "1    -0.004795  0.046799 -0.026035  0.000002 -0.007348 -0.009780 -0.017612   \n",
       "2    -0.029375 -0.014126  0.011029 -0.051348 -0.020782 -0.012137 -0.027784   \n",
       "3     0.006233  0.089320  0.044099  0.058791  0.011144  0.013531  0.001107   \n",
       "4    -0.001769  0.044358 -0.004025  0.028780  0.003352 -0.000448 -0.002815   \n",
       "...        ...       ...       ...       ...       ...       ...       ...   \n",
       "2494  0.008711 -0.001800  0.043413  0.042772  0.006270  0.015664 -0.021864   \n",
       "2495  0.019220  0.115578  0.053833 -0.043447  0.009340  0.013542  0.043964   \n",
       "2496  0.052214  0.068518 -0.004140  0.020267  0.003333 -0.001297  0.007680   \n",
       "2497 -0.013528  0.121268  0.025346 -0.026244 -0.016669 -0.008109 -0.005851   \n",
       "2498  0.005977  0.034939 -0.001080  0.102218  0.014559  0.006803 -0.002203   \n",
       "\n",
       "          7         8         9     ...      4991      4992      4993  \\\n",
       "0     0.281613  0.038201 -0.029081  ...  0.145538  0.092401  0.358667   \n",
       "1     0.039241  0.061586 -0.014043  ...  0.030711  0.006685  0.029074   \n",
       "2     0.063237  0.023245  0.082193  ...  0.003941 -0.073157  0.175241   \n",
       "3     0.129368  0.051529  0.042849  ...  0.040807  0.022837 -0.002037   \n",
       "4     0.038180  0.025538  0.009408  ... -0.001441 -0.004894  0.009775   \n",
       "...        ...       ...       ...  ...       ...       ...       ...   \n",
       "2494  0.096590 -0.143792 -0.104497  ...  0.038191 -0.069605  0.093665   \n",
       "2495  0.100403  0.050972  0.263277  ...  0.057497  0.310899  0.192715   \n",
       "2496 -0.142856 -0.000575  0.029476  ...  0.020155  0.126520  0.050061   \n",
       "2497  0.062824  0.364188  0.082592  ...  0.006595 -0.055937  0.045867   \n",
       "2498 -0.005971  0.050644 -0.021123  ...  0.097955  0.043711  0.149459   \n",
       "\n",
       "          4994      4995      4996      4997      4998      4999      5000  \n",
       "0     0.146256  0.373060  0.098133 -0.035926  0.091943  0.072221 -0.059761  \n",
       "1     0.064026  0.048139  0.028731  0.082528 -0.109411  0.069319  0.020840  \n",
       "2     0.193597  0.161033  0.221680  0.115487 -0.052190  0.088438  0.023843  \n",
       "3    -0.021462  0.034566  0.045303  0.050912  0.057501  0.018911  0.054744  \n",
       "4     0.079591  0.057185 -0.034001  0.039253 -0.022396  0.020123 -0.023192  \n",
       "...        ...       ...       ...       ...       ...       ...       ...  \n",
       "2494  0.118997  0.164819  0.157093  0.126064 -0.017103  0.126315  0.091563  \n",
       "2495  0.177343  0.126454  0.175485  0.049102  0.015428  0.135329  0.071547  \n",
       "2496  0.121075  0.226724  0.145791  0.051196  0.029750  0.040932  0.099006  \n",
       "2497 -0.050784  0.080551  0.069767  0.145105  0.008987  0.000841  0.198955  \n",
       "2498  0.038968  0.321457  0.002573  0.088394  0.044314  0.132950 -0.099615  \n",
       "\n",
       "[2499 rows x 5001 columns]"
      ]
     },
     "execution_count": 23,
     "metadata": {},
     "output_type": "execute_result"
    }
   ],
   "source": [
    "pd.DataFrame(fast_recs)"
   ]
  },
  {
   "cell_type": "code",
   "execution_count": 24,
   "metadata": {
    "id": "V6d15toQIHyr"
   },
   "outputs": [],
   "source": [
    "import numpy as np\n",
    "import pandas as pd\n",
    "from matplotlib.pyplot import cm\n",
    "import pickle\n",
    "\n",
    "from scipy.spatial.distance import cdist\n",
    "\n",
    "from sklearn.decomposition import PCA\n",
    "from sklearn.manifold import TSNE\n",
    "\n",
    "import seaborn as sns\n",
    "\n",
    "\n",
    "def reduce_dims(df, dims=2, method='pca'):\n",
    "    \n",
    "    assert method in ['pca', 'tsne'], 'Неверно указан метод'\n",
    "    \n",
    "    if method=='pca':\n",
    "        pca = PCA(n_components=dims)\n",
    "        components = pca.fit_transform(df)\n",
    "    elif method == 'tsne':\n",
    "        tsne = TSNE(n_components=dims, learning_rate=250, random_state=42)\n",
    "        components = tsne.fit_transform(df)\n",
    "    else:\n",
    "        print('Error')\n",
    "        \n",
    "    colnames = ['component_' + str(i) for i in range(1, dims+1)]\n",
    "    return pd.DataFrame(data = components, columns = colnames) \n",
    "\n",
    "\n",
    "def display_components_in_2D_space(components_df, labels='category', marker='D'):\n",
    "    \n",
    "    groups = components_df.groupby(labels)\n",
    "\n",
    "    # Plot\n",
    "    fig, ax = plt.subplots(figsize=(12,8))\n",
    "    ax.margins(0.05) # Optional, just adds 5% padding to the autoscaling\n",
    "    for name, group in groups:\n",
    "        ax.plot(group.component_1, group.component_2, \n",
    "                marker='o', ms=6,\n",
    "                linestyle='',\n",
    "                alpha=0.7,\n",
    "                label=name)\n",
    "    ax.legend(loc='center left', bbox_to_anchor=(1.02, 0.5))\n",
    "\n",
    "    plt.xlabel('component_1')\n",
    "    plt.ylabel('component_2') \n",
    "    plt.show()"
   ]
  },
  {
   "cell_type": "code",
   "execution_count": 25,
   "metadata": {
    "id": "Gbb8mdmQIHys",
    "outputId": "af54bb77-0188-4a4b-85bc-d0bb144c47fc"
   },
   "outputs": [
    {
     "data": {
      "text/plain": [
       "(5001, 100)"
      ]
     },
     "execution_count": 25,
     "metadata": {},
     "output_type": "execute_result"
    }
   ],
   "source": [
    "model.item_factors.shape"
   ]
  },
  {
   "cell_type": "code",
   "execution_count": 26,
   "metadata": {
    "id": "xhT9pq1kIHyt"
   },
   "outputs": [],
   "source": [
    "category = []\n",
    "\n",
    "for idx in range(model.item_factors.shape[0]):\n",
    "\n",
    "    try:\n",
    "        cat = item_features.loc[item_features['item_id'] == id_to_itemid[idx], 'department'].values[0]\n",
    "        category.append(cat)\n",
    "    except:\n",
    "        category.append('UNKNOWN')"
   ]
  },
  {
   "cell_type": "code",
   "execution_count": 27,
   "metadata": {},
   "outputs": [
    {
     "name": "stdout",
     "output_type": "stream",
     "text": [
      "['MISC SALES TRAN', 'KIOSK-GAS', 'MISC SALES TRAN', 'KIOSK-GAS', 'MISC SALES TRAN', 'MISC SALES TRAN', 'KIOSK-GAS', 'GROCERY', 'GROCERY', 'GROCERY']\n"
     ]
    }
   ],
   "source": [
    "print(category[:10])"
   ]
  },
  {
   "cell_type": "code",
   "execution_count": 28,
   "metadata": {
    "id": "B8oxR_P0IHyt",
    "outputId": "9f7f6460-25fc-4d01-b1c0-37854888c692"
   },
   "outputs": [
    {
     "data": {
      "image/png": "[encoded data removed]",
      "text/plain": [
       "<Figure size 864x576 with 1 Axes>"
      ]
     },
     "metadata": {
      "needs_background": "light"
     },
     "output_type": "display_data"
    },
    {
     "name": "stdout",
     "output_type": "stream",
     "text": [
      "Wall time: 1min 45s\n"
     ]
    }
   ],
   "source": [
    "%%time\n",
    "item_emb_tsne = reduce_dims(model.item_factors, dims=2, method='tsne') # 5001 х 100  ---> 5001 x 2\n",
    "item_emb_tsne['category'] = category  # Добавляем категорию\n",
    "item_emb_tsne = item_emb_tsne[item_emb_tsne['category'] != 'UNKNOWN']\n",
    "\n",
    "display_components_in_2D_space(item_emb_tsne, labels='category')"
   ]
  },
  {
   "cell_type": "markdown",
   "metadata": {
    "id": "21LfCjpxIHyt"
   },
   "source": [
    "Нарисуем все, кроме GROCERY"
   ]
  },
  {
   "cell_type": "code",
   "execution_count": 29,
   "metadata": {
    "id": "BNy3Fb1DIHyu",
    "outputId": "cd92302c-3a4e-4345-9c8e-e95a4fa44770"
   },
   "outputs": [
    {
     "data": {
      "image/png": "[encoded data removed]",
      "text/plain": [
       "<Figure size 864x576 with 1 Axes>"
      ]
     },
     "metadata": {
      "needs_background": "light"
     },
     "output_type": "display_data"
    }
   ],
   "source": [
    "display_components_in_2D_space(item_emb_tsne[item_emb_tsne['category'] != 'GROCERY'], labels='category')"
   ]
  },
  {
   "cell_type": "markdown",
   "metadata": {
    "id": "DxZJ7HCOIHyu"
   },
   "source": [
    "Нарисуем несколько конкретных категорий"
   ]
  },
  {
   "cell_type": "code",
   "execution_count": 30,
   "metadata": {
    "id": "FeQlyTdTIHyu",
    "outputId": "e6aab935-1525-4202-b2a4-f2a352fd17e3"
   },
   "outputs": [
    {
     "data": {
      "image/png": "[encoded data removed]",
      "text/plain": [
       "<Figure size 864x576 with 1 Axes>"
      ]
     },
     "metadata": {
      "needs_background": "light"
     },
     "output_type": "display_data"
    }
   ],
   "source": [
    "interesting_cats = ['PASTRY', 'PRODUCE', 'DRUG GM', 'FLORAL']\n",
    "\n",
    "display_components_in_2D_space(item_emb_tsne[item_emb_tsne['category'].isin(interesting_cats)], \n",
    "                                             labels='category')"
   ]
  },
  {
   "cell_type": "code",
   "execution_count": 31,
   "metadata": {},
   "outputs": [
    {
     "data": {
      "image/png": "[encoded data removed]",
      "text/plain": [
       "<Figure size 864x576 with 1 Axes>"
      ]
     },
     "metadata": {
      "needs_background": "light"
     },
     "output_type": "display_data"
    }
   ],
   "source": [
    "interesting_cats = ['PASTRY', 'PRODUCE', 'DRUG GM', 'FLORAL']\n",
    "\n",
    "display_components_in_2D_space(item_emb_tsne[item_emb_tsne['category'].isin(interesting_cats)], \n",
    "                                             labels='category')"
   ]
  },
  {
   "cell_type": "code",
   "execution_count": 32,
   "metadata": {},
   "outputs": [
    {
     "data": {
      "image/png": "[encoded data removed]",
      "text/plain": [
       "<Figure size 864x576 with 1 Axes>"
      ]
     },
     "metadata": {
      "needs_background": "light"
     },
     "output_type": "display_data"
    }
   ],
   "source": [
    "interesting_cats = ['PASTRY', 'PRODUCE', 'DRUG GM', 'FLORAL']\n",
    "\n",
    "display_components_in_2D_space(item_emb_tsne[item_emb_tsne['category'].isin(interesting_cats)], \n",
    "                                             labels='category')"
   ]
  },
  {
   "cell_type": "markdown",
   "metadata": {
    "id": "eelXXrgiIHyv"
   },
   "source": [
    "На самом деле, я бы сказал, что **результат средний**:\n",
    "- Модель выучила похожесть только небольшой части товаров"
   ]
  },
  {
   "cell_type": "code",
   "execution_count": 33,
   "metadata": {
    "id": "xK9UDIfsIHyv",
    "outputId": "ef3fab8f-4734-4ad1-e47a-f7400e19ca81"
   },
   "outputs": [
    {
     "data": {
      "text/html": [
       "<div>\n",
       "<style scoped>\n",
       "    .dataframe tbody tr th:only-of-type {\n",
       "        vertical-align: middle;\n",
       "    }\n",
       "\n",
       "    .dataframe tbody tr th {\n",
       "        vertical-align: top;\n",
       "    }\n",
       "\n",
       "    .dataframe thead th {\n",
       "        text-align: right;\n",
       "    }\n",
       "</style>\n",
       "<table border=\"1\" class=\"dataframe\">\n",
       "  <thead>\n",
       "    <tr style=\"text-align: right;\">\n",
       "      <th></th>\n",
       "      <th>component_1</th>\n",
       "      <th>component_2</th>\n",
       "      <th>category</th>\n",
       "    </tr>\n",
       "  </thead>\n",
       "  <tbody>\n",
       "    <tr>\n",
       "      <th>0</th>\n",
       "      <td>4.069465</td>\n",
       "      <td>-7.019206</td>\n",
       "      <td>MISC SALES TRAN</td>\n",
       "    </tr>\n",
       "    <tr>\n",
       "      <th>1</th>\n",
       "      <td>5.896340</td>\n",
       "      <td>-7.803860</td>\n",
       "      <td>KIOSK-GAS</td>\n",
       "    </tr>\n",
       "  </tbody>\n",
       "</table>\n",
       "</div>"
      ],
      "text/plain": [
       "   component_1  component_2         category\n",
       "0     4.069465    -7.019206  MISC SALES TRAN\n",
       "1     5.896340    -7.803860        KIOSK-GAS"
      ]
     },
     "execution_count": 33,
     "metadata": {},
     "output_type": "execute_result"
    }
   ],
   "source": [
    "item_emb_tsne.head(2)"
   ]
  },
  {
   "cell_type": "markdown",
   "metadata": {
    "id": "EQOQN7D5IHyw"
   },
   "source": [
    "recommend_all делает перемножение, но еще и сортирует и выбирает топ-N"
   ]
  },
  {
   "cell_type": "code",
   "execution_count": 34,
   "metadata": {
    "colab": {
     "referenced_widgets": [
      "7d500b748414417f93b8f936f582ba96"
     ]
    },
    "id": "s8sUJSCzIHyw",
    "outputId": "192a9709-cc88-4492-d321-8e2063e1ec67"
   },
   "outputs": [
    {
     "data": {
      "application/vnd.jupyter.widget-view+json": {
       "model_id": "5742d02da01240518678b4e5c1895d85",
       "version_major": 2,
       "version_minor": 0
      },
      "text/plain": [
       "HBox(children=(HTML(value=''), FloatProgress(value=0.0, max=2499.0), HTML(value='')))"
      ]
     },
     "metadata": {},
     "output_type": "display_data"
    },
    {
     "name": "stdout",
     "output_type": "stream",
     "text": [
      "\n",
      "Wall time: 56.4 s\n"
     ]
    }
   ],
   "source": [
    "%%time\n",
    "recommendations = model.recommend_all(N=5, \n",
    "                                      user_items=csr_matrix(user_item_matrix).tocsr(),\n",
    "                                      filter_already_liked_items=True, \n",
    "                                      filter_items=None, \n",
    "                                      recalculate_user=True,\n",
    "                                      show_progress=True,\n",
    "                                      batch_size=500)"
   ]
  },
  {
   "cell_type": "code",
   "execution_count": 35,
   "metadata": {},
   "outputs": [
    {
     "data": {
      "text/plain": [
       "(2499, 5)"
      ]
     },
     "execution_count": 35,
     "metadata": {},
     "output_type": "execute_result"
    }
   ],
   "source": [
    "recommendations.shape"
   ]
  },
  {
   "cell_type": "code",
   "execution_count": 36,
   "metadata": {},
   "outputs": [
    {
     "data": {
      "text/html": [
       "<div>\n",
       "<style scoped>\n",
       "    .dataframe tbody tr th:only-of-type {\n",
       "        vertical-align: middle;\n",
       "    }\n",
       "\n",
       "    .dataframe tbody tr th {\n",
       "        vertical-align: top;\n",
       "    }\n",
       "\n",
       "    .dataframe thead th {\n",
       "        text-align: right;\n",
       "    }\n",
       "</style>\n",
       "<table border=\"1\" class=\"dataframe\">\n",
       "  <thead>\n",
       "    <tr style=\"text-align: right;\">\n",
       "      <th></th>\n",
       "      <th>0</th>\n",
       "      <th>1</th>\n",
       "      <th>2</th>\n",
       "      <th>3</th>\n",
       "      <th>4</th>\n",
       "    </tr>\n",
       "  </thead>\n",
       "  <tbody>\n",
       "    <tr>\n",
       "      <th>0</th>\n",
       "      <td>2696</td>\n",
       "      <td>1927</td>\n",
       "      <td>832</td>\n",
       "      <td>3947</td>\n",
       "      <td>661</td>\n",
       "    </tr>\n",
       "    <tr>\n",
       "      <th>1</th>\n",
       "      <td>2148</td>\n",
       "      <td>2307</td>\n",
       "      <td>4346</td>\n",
       "      <td>2757</td>\n",
       "      <td>2927</td>\n",
       "    </tr>\n",
       "    <tr>\n",
       "      <th>2</th>\n",
       "      <td>3388</td>\n",
       "      <td>1659</td>\n",
       "      <td>558</td>\n",
       "      <td>1516</td>\n",
       "      <td>3029</td>\n",
       "    </tr>\n",
       "    <tr>\n",
       "      <th>3</th>\n",
       "      <td>3408</td>\n",
       "      <td>1801</td>\n",
       "      <td>3587</td>\n",
       "      <td>110</td>\n",
       "      <td>4346</td>\n",
       "    </tr>\n",
       "    <tr>\n",
       "      <th>4</th>\n",
       "      <td>3408</td>\n",
       "      <td>2148</td>\n",
       "      <td>3133</td>\n",
       "      <td>2307</td>\n",
       "      <td>4346</td>\n",
       "    </tr>\n",
       "    <tr>\n",
       "      <th>...</th>\n",
       "      <td>...</td>\n",
       "      <td>...</td>\n",
       "      <td>...</td>\n",
       "      <td>...</td>\n",
       "      <td>...</td>\n",
       "    </tr>\n",
       "    <tr>\n",
       "      <th>2494</th>\n",
       "      <td>1927</td>\n",
       "      <td>1923</td>\n",
       "      <td>2434</td>\n",
       "      <td>4287</td>\n",
       "      <td>1801</td>\n",
       "    </tr>\n",
       "    <tr>\n",
       "      <th>2495</th>\n",
       "      <td>2765</td>\n",
       "      <td>3301</td>\n",
       "      <td>647</td>\n",
       "      <td>70</td>\n",
       "      <td>1419</td>\n",
       "    </tr>\n",
       "    <tr>\n",
       "      <th>2496</th>\n",
       "      <td>4346</td>\n",
       "      <td>3587</td>\n",
       "      <td>2148</td>\n",
       "      <td>1349</td>\n",
       "      <td>4147</td>\n",
       "    </tr>\n",
       "    <tr>\n",
       "      <th>2497</th>\n",
       "      <td>300</td>\n",
       "      <td>4016</td>\n",
       "      <td>3704</td>\n",
       "      <td>2847</td>\n",
       "      <td>657</td>\n",
       "    </tr>\n",
       "    <tr>\n",
       "      <th>2498</th>\n",
       "      <td>558</td>\n",
       "      <td>2454</td>\n",
       "      <td>1328</td>\n",
       "      <td>4060</td>\n",
       "      <td>2216</td>\n",
       "    </tr>\n",
       "  </tbody>\n",
       "</table>\n",
       "<p>2499 rows × 5 columns</p>\n",
       "</div>"
      ],
      "text/plain": [
       "         0     1     2     3     4\n",
       "0     2696  1927   832  3947   661\n",
       "1     2148  2307  4346  2757  2927\n",
       "2     3388  1659   558  1516  3029\n",
       "3     3408  1801  3587   110  4346\n",
       "4     3408  2148  3133  2307  4346\n",
       "...    ...   ...   ...   ...   ...\n",
       "2494  1927  1923  2434  4287  1801\n",
       "2495  2765  3301   647    70  1419\n",
       "2496  4346  3587  2148  1349  4147\n",
       "2497   300  4016  3704  2847   657\n",
       "2498   558  2454  1328  4060  2216\n",
       "\n",
       "[2499 rows x 5 columns]"
      ]
     },
     "execution_count": 36,
     "metadata": {},
     "output_type": "execute_result"
    }
   ],
   "source": [
    "pd.DataFrame(recommendations)"
   ]
  },
  {
   "cell_type": "code",
   "execution_count": 37,
   "metadata": {
    "id": "ZqpPTlojIHyx"
   },
   "outputs": [],
   "source": [
    "item_1 = model.item_factors[1]\n",
    "item_2 = model.item_factors[2]"
   ]
  },
  {
   "cell_type": "code",
   "execution_count": 38,
   "metadata": {},
   "outputs": [
    {
     "data": {
      "text/plain": [
       "(100,)"
      ]
     },
     "execution_count": 38,
     "metadata": {},
     "output_type": "execute_result"
    }
   ],
   "source": [
    "item_1.shape"
   ]
  },
  {
   "cell_type": "code",
   "execution_count": 39,
   "metadata": {},
   "outputs": [
    {
     "data": {
      "text/plain": [
       "array([ 6.5419204e-03,  3.2380205e-03,  4.1044845e-05,  6.9124261e-03,\n",
       "        4.5401696e-03,  1.1959476e-03,  3.6513701e-03,  8.0503160e-03,\n",
       "        5.5261552e-03,  6.4678686e-03, -1.5373739e-04,  1.7035166e-03,\n",
       "        2.2571282e-03,  4.2121178e-03,  4.5201909e-03,  2.0576690e-03,\n",
       "        3.8773264e-03,  8.7188132e-04,  7.1294354e-03, -2.8857503e-03,\n",
       "        6.1499709e-03, -6.3792206e-03,  3.1025356e-03, -1.3611153e-04,\n",
       "        6.6956938e-03,  1.5594438e-03,  3.8769137e-04,  2.8248818e-03,\n",
       "        4.6995445e-03,  1.9936666e-03,  1.8718881e-03,  6.9213565e-03,\n",
       "       -2.6160274e-03,  4.4415067e-03,  2.4657650e-03,  7.9676532e-04,\n",
       "        2.0910797e-03, -6.6308095e-04,  5.7760254e-03, -3.0464057e-03,\n",
       "        1.0213401e-02, -2.2536331e-04,  3.4293025e-03,  2.1278148e-03,\n",
       "        2.3025314e-03,  5.8265557e-03,  9.9048438e-04,  1.2439196e-03,\n",
       "        4.2457948e-03,  4.1891318e-03,  3.2259044e-03,  2.9586902e-04,\n",
       "        4.3757735e-03,  1.3489071e-03, -1.1185657e-03, -2.7270881e-03,\n",
       "        3.1252347e-03,  1.0057165e-03,  4.7365054e-03,  1.1299208e-03,\n",
       "        4.7965446e-03,  9.1663969e-04,  3.9306944e-03,  1.6378121e-05,\n",
       "        4.0745200e-03, -9.7403681e-04,  9.9013662e-03,  4.8770253e-03,\n",
       "       -2.4072258e-03,  3.2279638e-03, -6.6607783e-04,  7.1706893e-03,\n",
       "        5.7744551e-03,  1.8882019e-03,  1.5692334e-03,  5.2388123e-04,\n",
       "        3.5822124e-03, -6.0707086e-04,  7.9250690e-03, -1.5451707e-03,\n",
       "        1.1561725e-03,  4.2084404e-03,  4.6289950e-03,  6.5262400e-04,\n",
       "        6.2499209e-03,  2.8506825e-03,  5.3826147e-03,  2.4004551e-04,\n",
       "        8.8004125e-03, -8.5183326e-04, -1.3401019e-04,  6.0516000e-03,\n",
       "        3.5187132e-03,  4.8320438e-03,  5.7914159e-03,  1.2471913e-03,\n",
       "        1.8389114e-03,  2.1608328e-03,  7.7348878e-03,  8.4739883e-04],\n",
       "      dtype=float32)"
      ]
     },
     "execution_count": 39,
     "metadata": {},
     "output_type": "execute_result"
    }
   ],
   "source": [
    "item_1"
   ]
  },
  {
   "cell_type": "markdown",
   "metadata": {
    "id": "IDtmV7QxIHyx"
   },
   "source": [
    "*Посмотрите также / Похожие товары*"
   ]
  },
  {
   "cell_type": "code",
   "execution_count": 40,
   "metadata": {},
   "outputs": [],
   "source": [
    "example_item_row_id = 3606"
   ]
  },
  {
   "cell_type": "code",
   "execution_count": 41,
   "metadata": {
    "id": "FG43lphYIHyx",
    "outputId": "c548ef47-f17c-4000-a4cf-3826e088f08b"
   },
   "outputs": [],
   "source": [
    "closest_items = [ id_to_itemid[row_id] for row_id, score in model.similar_items(example_item_row_id, N=5)]"
   ]
  },
  {
   "cell_type": "code",
   "execution_count": 42,
   "metadata": {},
   "outputs": [
    {
     "data": {
      "text/html": [
       "<div>\n",
       "<style scoped>\n",
       "    .dataframe tbody tr th:only-of-type {\n",
       "        vertical-align: middle;\n",
       "    }\n",
       "\n",
       "    .dataframe tbody tr th {\n",
       "        vertical-align: top;\n",
       "    }\n",
       "\n",
       "    .dataframe thead th {\n",
       "        text-align: right;\n",
       "    }\n",
       "</style>\n",
       "<table border=\"1\" class=\"dataframe\">\n",
       "  <thead>\n",
       "    <tr style=\"text-align: right;\">\n",
       "      <th></th>\n",
       "      <th>item_id</th>\n",
       "      <th>manufacturer</th>\n",
       "      <th>department</th>\n",
       "      <th>brand</th>\n",
       "      <th>commodity_desc</th>\n",
       "      <th>sub_commodity_desc</th>\n",
       "      <th>curr_size_of_product</th>\n",
       "    </tr>\n",
       "  </thead>\n",
       "  <tbody>\n",
       "    <tr>\n",
       "      <th>8143</th>\n",
       "      <td>839040</td>\n",
       "      <td>942</td>\n",
       "      <td>GROCERY</td>\n",
       "      <td>National</td>\n",
       "      <td>CONDIMENTS/SAUCES</td>\n",
       "      <td>HOT MUSTARD/SPECIALTY MUSTAR</td>\n",
       "      <td>12 OZ</td>\n",
       "    </tr>\n",
       "    <tr>\n",
       "      <th>14959</th>\n",
       "      <td>899459</td>\n",
       "      <td>69</td>\n",
       "      <td>GROCERY</td>\n",
       "      <td>Private</td>\n",
       "      <td>CHEESE</td>\n",
       "      <td>NATURAL CHEESE EXACT WT CHUNKS</td>\n",
       "      <td>1 LB</td>\n",
       "    </tr>\n",
       "    <tr>\n",
       "      <th>25270</th>\n",
       "      <td>990804</td>\n",
       "      <td>69</td>\n",
       "      <td>GROCERY</td>\n",
       "      <td>Private</td>\n",
       "      <td>VEGETABLES - SHELF STABLE</td>\n",
       "      <td>MUSHROOMS CND &amp; GLASS</td>\n",
       "      <td>4.5 OZ</td>\n",
       "    </tr>\n",
       "    <tr>\n",
       "      <th>37579</th>\n",
       "      <td>1100265</td>\n",
       "      <td>69</td>\n",
       "      <td>GROCERY</td>\n",
       "      <td>Private</td>\n",
       "      <td>CHEESE</td>\n",
       "      <td>NATURAL CHEESE EXACT WT SLICES</td>\n",
       "      <td>10 OZ</td>\n",
       "    </tr>\n",
       "    <tr>\n",
       "      <th>41452</th>\n",
       "      <td>1135476</td>\n",
       "      <td>673</td>\n",
       "      <td>PRODUCE</td>\n",
       "      <td>National</td>\n",
       "      <td>BERRIES</td>\n",
       "      <td>STRAWBERRIES</td>\n",
       "      <td>1 LB</td>\n",
       "    </tr>\n",
       "  </tbody>\n",
       "</table>\n",
       "</div>"
      ],
      "text/plain": [
       "       item_id  manufacturer department     brand             commodity_desc  \\\n",
       "8143    839040           942    GROCERY  National          CONDIMENTS/SAUCES   \n",
       "14959   899459            69    GROCERY   Private                     CHEESE   \n",
       "25270   990804            69    GROCERY   Private  VEGETABLES - SHELF STABLE   \n",
       "37579  1100265            69    GROCERY   Private                     CHEESE   \n",
       "41452  1135476           673    PRODUCE  National                    BERRIES   \n",
       "\n",
       "                   sub_commodity_desc curr_size_of_product  \n",
       "8143     HOT MUSTARD/SPECIALTY MUSTAR                12 OZ  \n",
       "14959  NATURAL CHEESE EXACT WT CHUNKS                 1 LB  \n",
       "25270           MUSHROOMS CND & GLASS               4.5 OZ  \n",
       "37579  NATURAL CHEESE EXACT WT SLICES                10 OZ  \n",
       "41452                    STRAWBERRIES                 1 LB  "
      ]
     },
     "execution_count": 42,
     "metadata": {},
     "output_type": "execute_result"
    }
   ],
   "source": [
    "item_features[item_features.item_id.isin(closest_items)]"
   ]
  },
  {
   "cell_type": "markdown",
   "metadata": {
    "id": "z3kvH35nIHyy"
   },
   "source": [
    "*Вашим друзьям нравится / Похожим пользователям нравится / ...*"
   ]
  },
  {
   "cell_type": "markdown",
   "metadata": {
    "id": "I6pbr6dUIHyy"
   },
   "source": [
    "Пользователь --> похожих пользовтелей --> рекомендовать те товары, которые купили похожие юзеры"
   ]
  },
  {
   "cell_type": "code",
   "execution_count": 43,
   "metadata": {
    "id": "StEG6KrkIHyy",
    "outputId": "78aef638-88ce-4a7f-d430-3fef25cdbc12"
   },
   "outputs": [
    {
     "data": {
      "text/plain": [
       "[(9, 0.9999999),\n",
       " (239, 0.976348),\n",
       " (1380, 0.97487676),\n",
       " (790, 0.9746884),\n",
       " (354, 0.9733661)]"
      ]
     },
     "execution_count": 43,
     "metadata": {},
     "output_type": "execute_result"
    }
   ],
   "source": [
    "model.similar_users(userid_to_id[10], N=5)"
   ]
  },
  {
   "cell_type": "markdown",
   "metadata": {
    "id": "dpSbiUfUIHyz"
   },
   "source": [
    "### 2. TF-IDF взвешивание"
   ]
  },
  {
   "cell_type": "code",
   "execution_count": 44,
   "metadata": {
    "id": "4hA_6DX7IHyz"
   },
   "outputs": [],
   "source": [
    "user_item_matrix = tfidf_weight(user_item_matrix.T).T  # Применяется к item-user матрице ! "
   ]
  },
  {
   "cell_type": "code",
   "execution_count": 45,
   "metadata": {
    "colab": {
     "referenced_widgets": [
      "6fee8130b62245e0b0a0597124b6c3ac"
     ]
    },
    "id": "baK0yoTwIHyz",
    "outputId": "16a60037-5061-44f4-9f7e-8a431bb55b43"
   },
   "outputs": [
    {
     "data": {
      "application/vnd.jupyter.widget-view+json": {
       "model_id": "e751075002864f19a2df935ff2fac747",
       "version_major": 2,
       "version_minor": 0
      },
      "text/plain": [
       "HBox(children=(HTML(value=''), FloatProgress(value=0.0, max=15.0), HTML(value='')))"
      ]
     },
     "metadata": {},
     "output_type": "display_data"
    },
    {
     "name": "stdout",
     "output_type": "stream",
     "text": [
      "\n",
      "Wall time: 1min 49s\n"
     ]
    },
    {
     "data": {
      "text/plain": [
       "0.1638589618021528"
      ]
     },
     "execution_count": 45,
     "metadata": {},
     "output_type": "execute_result"
    }
   ],
   "source": [
    "%%time\n",
    "\n",
    "model = AlternatingLeastSquares(factors=100, \n",
    "                                regularization=0.001,\n",
    "                                iterations=15, \n",
    "                                calculate_training_loss=True, \n",
    "                                num_threads=4)\n",
    "\n",
    "model.fit(csr_matrix(user_item_matrix).T.tocsr(),  # На вход item-user matrix\n",
    "          show_progress=True)\n",
    "\n",
    "result['als_tfidf'] = result['user_id'].apply(lambda x: get_recommendations(x, model=model, N=5))\n",
    "\n",
    "result.apply(lambda row: precision_at_k(row['als_tfidf'], row['actual']), axis=1).mean()"
   ]
  },
  {
   "cell_type": "markdown",
   "metadata": {
    "id": "6Xw80BaLIHyz"
   },
   "source": [
    "### 3. BM25 взвешивание"
   ]
  },
  {
   "cell_type": "code",
   "execution_count": 46,
   "metadata": {
    "id": "CyNl4rkjIHy0",
    "outputId": "067712af-e22d-4b99-a418-747ee026b72d"
   },
   "outputs": [
    {
     "name": "stderr",
     "output_type": "stream",
     "text": [
      "D:\\Users\\Pelmellika\\anaconda3\\lib\\site-packages\\pandas\\core\\indexing.py:1765: SettingWithCopyWarning: \n",
      "A value is trying to be set on a copy of a slice from a DataFrame.\n",
      "Try using .loc[row_indexer,col_indexer] = value instead\n",
      "\n",
      "See the caveats in the documentation: https://pandas.pydata.org/pandas-docs/stable/user_guide/indexing.html#returning-a-view-versus-a-copy\n",
      "  isetter(loc, value)\n"
     ]
    },
    {
     "data": {
      "text/html": [
       "<div>\n",
       "<style scoped>\n",
       "    .dataframe tbody tr th:only-of-type {\n",
       "        vertical-align: middle;\n",
       "    }\n",
       "\n",
       "    .dataframe tbody tr th {\n",
       "        vertical-align: top;\n",
       "    }\n",
       "\n",
       "    .dataframe thead th {\n",
       "        text-align: right;\n",
       "    }\n",
       "</style>\n",
       "<table border=\"1\" class=\"dataframe\">\n",
       "  <thead>\n",
       "    <tr style=\"text-align: right;\">\n",
       "      <th>item_id</th>\n",
       "      <th>202291</th>\n",
       "      <th>397896</th>\n",
       "      <th>420647</th>\n",
       "      <th>480014</th>\n",
       "      <th>545926</th>\n",
       "      <th>707683</th>\n",
       "      <th>731106</th>\n",
       "      <th>818980</th>\n",
       "      <th>819063</th>\n",
       "      <th>819227</th>\n",
       "      <th>...</th>\n",
       "      <th>15778533</th>\n",
       "      <th>15831255</th>\n",
       "      <th>15926712</th>\n",
       "      <th>15926775</th>\n",
       "      <th>15926844</th>\n",
       "      <th>15926886</th>\n",
       "      <th>15927403</th>\n",
       "      <th>15927661</th>\n",
       "      <th>15927850</th>\n",
       "      <th>16809471</th>\n",
       "    </tr>\n",
       "    <tr>\n",
       "      <th>user_id</th>\n",
       "      <th></th>\n",
       "      <th></th>\n",
       "      <th></th>\n",
       "      <th></th>\n",
       "      <th></th>\n",
       "      <th></th>\n",
       "      <th></th>\n",
       "      <th></th>\n",
       "      <th></th>\n",
       "      <th></th>\n",
       "      <th></th>\n",
       "      <th></th>\n",
       "      <th></th>\n",
       "      <th></th>\n",
       "      <th></th>\n",
       "      <th></th>\n",
       "      <th></th>\n",
       "      <th></th>\n",
       "      <th></th>\n",
       "      <th></th>\n",
       "      <th></th>\n",
       "    </tr>\n",
       "  </thead>\n",
       "  <tbody>\n",
       "    <tr>\n",
       "      <th>1</th>\n",
       "      <td>0.0</td>\n",
       "      <td>0.0</td>\n",
       "      <td>0.0</td>\n",
       "      <td>0.0</td>\n",
       "      <td>0.0</td>\n",
       "      <td>0.0</td>\n",
       "      <td>0.0</td>\n",
       "      <td>0.0</td>\n",
       "      <td>0.0</td>\n",
       "      <td>0.0</td>\n",
       "      <td>...</td>\n",
       "      <td>0.0</td>\n",
       "      <td>0.0</td>\n",
       "      <td>0.0</td>\n",
       "      <td>0.0</td>\n",
       "      <td>1.0</td>\n",
       "      <td>0.0</td>\n",
       "      <td>0.0</td>\n",
       "      <td>0.0</td>\n",
       "      <td>0.0</td>\n",
       "      <td>0.0</td>\n",
       "    </tr>\n",
       "    <tr>\n",
       "      <th>2</th>\n",
       "      <td>0.0</td>\n",
       "      <td>0.0</td>\n",
       "      <td>0.0</td>\n",
       "      <td>0.0</td>\n",
       "      <td>0.0</td>\n",
       "      <td>0.0</td>\n",
       "      <td>0.0</td>\n",
       "      <td>0.0</td>\n",
       "      <td>0.0</td>\n",
       "      <td>0.0</td>\n",
       "      <td>...</td>\n",
       "      <td>0.0</td>\n",
       "      <td>0.0</td>\n",
       "      <td>0.0</td>\n",
       "      <td>0.0</td>\n",
       "      <td>0.0</td>\n",
       "      <td>0.0</td>\n",
       "      <td>0.0</td>\n",
       "      <td>0.0</td>\n",
       "      <td>0.0</td>\n",
       "      <td>0.0</td>\n",
       "    </tr>\n",
       "    <tr>\n",
       "      <th>3</th>\n",
       "      <td>0.0</td>\n",
       "      <td>0.0</td>\n",
       "      <td>0.0</td>\n",
       "      <td>0.0</td>\n",
       "      <td>0.0</td>\n",
       "      <td>0.0</td>\n",
       "      <td>0.0</td>\n",
       "      <td>0.0</td>\n",
       "      <td>0.0</td>\n",
       "      <td>0.0</td>\n",
       "      <td>...</td>\n",
       "      <td>0.0</td>\n",
       "      <td>0.0</td>\n",
       "      <td>0.0</td>\n",
       "      <td>0.0</td>\n",
       "      <td>0.0</td>\n",
       "      <td>0.0</td>\n",
       "      <td>0.0</td>\n",
       "      <td>0.0</td>\n",
       "      <td>0.0</td>\n",
       "      <td>0.0</td>\n",
       "    </tr>\n",
       "  </tbody>\n",
       "</table>\n",
       "<p>3 rows × 5001 columns</p>\n",
       "</div>"
      ],
      "text/plain": [
       "item_id  202291    397896    420647    480014    545926    707683    731106    \\\n",
       "user_id                                                                         \n",
       "1             0.0       0.0       0.0       0.0       0.0       0.0       0.0   \n",
       "2             0.0       0.0       0.0       0.0       0.0       0.0       0.0   \n",
       "3             0.0       0.0       0.0       0.0       0.0       0.0       0.0   \n",
       "\n",
       "item_id  818980    819063    819227    ...  15778533  15831255  15926712  \\\n",
       "user_id                                ...                                 \n",
       "1             0.0       0.0       0.0  ...       0.0       0.0       0.0   \n",
       "2             0.0       0.0       0.0  ...       0.0       0.0       0.0   \n",
       "3             0.0       0.0       0.0  ...       0.0       0.0       0.0   \n",
       "\n",
       "item_id  15926775  15926844  15926886  15927403  15927661  15927850  16809471  \n",
       "user_id                                                                        \n",
       "1             0.0       1.0       0.0       0.0       0.0       0.0       0.0  \n",
       "2             0.0       0.0       0.0       0.0       0.0       0.0       0.0  \n",
       "3             0.0       0.0       0.0       0.0       0.0       0.0       0.0  \n",
       "\n",
       "[3 rows x 5001 columns]"
      ]
     },
     "execution_count": 46,
     "metadata": {},
     "output_type": "execute_result"
    }
   ],
   "source": [
    "# Заведем фиктивный item_id (если юзер покупал товары из топ-5000, то он \"купил\" такой товар)\n",
    "data_train.loc[~data_train['item_id'].isin(top_5000), 'item_id'] = 999999\n",
    "\n",
    "user_item_matrix = pd.pivot_table(data_train, \n",
    "                                  index='user_id', columns='item_id', \n",
    "                                  values='quantity', # Можно пробовать другие варианты\n",
    "                                  aggfunc='count', \n",
    "                                  fill_value=0\n",
    "                                 )\n",
    "\n",
    "user_item_matrix = user_item_matrix.astype(float) # необходимый тип матрицы для implicit\n",
    "\n",
    "# переведем в формат saprse matrix\n",
    "sparse_user_item = csr_matrix(user_item_matrix).tocsr()\n",
    "\n",
    "user_item_matrix.head(3)"
   ]
  },
  {
   "cell_type": "code",
   "execution_count": 47,
   "metadata": {
    "id": "0yalYjMvIHy0"
   },
   "outputs": [],
   "source": [
    "user_item_matrix = bm25_weight(user_item_matrix.T).T  # Применяется к item-user матрице ! "
   ]
  },
  {
   "cell_type": "code",
   "execution_count": 48,
   "metadata": {
    "colab": {
     "referenced_widgets": [
      "4ed4a23e566645f49a4257ead85d177a"
     ]
    },
    "id": "aixME0BeIHy0",
    "outputId": "8777a5af-c636-4e2b-e315-eb413f7ba346"
   },
   "outputs": [
    {
     "data": {
      "application/vnd.jupyter.widget-view+json": {
       "model_id": "d9a1c9922ec24fb1a0a5ed9e0e6dad15",
       "version_major": 2,
       "version_minor": 0
      },
      "text/plain": [
       "HBox(children=(HTML(value=''), FloatProgress(value=0.0, max=15.0), HTML(value='')))"
      ]
     },
     "metadata": {},
     "output_type": "display_data"
    },
    {
     "name": "stdout",
     "output_type": "stream",
     "text": [
      "\n",
      "Wall time: 2min 12s\n"
     ]
    }
   ],
   "source": [
    "%%time\n",
    "\n",
    "model = AlternatingLeastSquares(factors=100, \n",
    "                                regularization=0.001,\n",
    "                                iterations=15, \n",
    "                                calculate_training_loss=True, \n",
    "                                num_threads=4) # K - кол-во билжайших соседей\n",
    "\n",
    "model.fit(csr_matrix(user_item_matrix).T.tocsr(),  # На вход item-user matrix\n",
    "          show_progress=True)\n",
    "\n",
    "result['als_bm25'] = result['user_id'].apply(lambda x: get_recommendations(x, model=model, N=5))"
   ]
  },
  {
   "cell_type": "code",
   "execution_count": 49,
   "metadata": {},
   "outputs": [
    {
     "data": {
      "text/plain": [
       "0.19255631733594228"
      ]
     },
     "execution_count": 49,
     "metadata": {},
     "output_type": "execute_result"
    }
   ],
   "source": [
    "result.apply(lambda row: precision_at_k(row['als_bm25'], row['actual']), axis=1).mean()"
   ]
  },
  {
   "cell_type": "code",
   "execution_count": 50,
   "metadata": {
    "id": "eq8DV_vtIHy1"
   },
   "outputs": [],
   "source": [
    "result.to_csv('predictions_mf.csv', index=False)  # mf - matrix factorization"
   ]
  },
  {
   "cell_type": "markdown",
   "metadata": {
    "id": "749_a1hBIHy1"
   },
   "source": [
    "## 4. Важно искать оптимальные параметры"
   ]
  },
  {
   "cell_type": "markdown",
   "metadata": {
    "id": "mBdRhScQIHy1"
   },
   "source": [
    "- regularization, iterations\n",
    "- factors\n",
    "- Вес (элемент в матрице user-item)"
   ]
  },
  {
   "cell_type": "markdown",
   "metadata": {
    "id": "aTJVsOhrIHy1"
   },
   "source": [
    "-----"
   ]
  },
  {
   "cell_type": "markdown",
   "metadata": {
    "id": "IgTrX7hAIHy2"
   },
   "source": [
    "# Production"
   ]
  },
  {
   "cell_type": "markdown",
   "metadata": {
    "id": "_BlVIuo8IHy2"
   },
   "source": [
    "Начиная с этого вебинара, мы будем строить *базовое решение* для системы рекомендаций топ-N товаров. В финальном проекте вам нужно будет его сущесвтенно улучшить.  \n",
    "  \n",
    "**Ситуация**: Вы работает data scientist в крупном продуктовом российском ритейлере. Ваш конкурент сделал рекомендательную систему, и его продажи выросли. Ваш менеджмент тоже хочет увеличить продажи   \n",
    "**Задача со слов менеджера**: Сделайте рекомендательную систему топ-10 товаров для рассылки по e-mail"
   ]
  },
  {
   "cell_type": "markdown",
   "metadata": {
    "id": "0O0XT3Y5IHy2"
   },
   "source": [
    "**Ожидание:**\n",
    "- Отправляем e-mail с топ-10 товарами, отсортированными по вероятности\n",
    "\n",
    "**Реальность:**\n",
    "- Чего хочет менеджер от рекомендательной системы? (рост показателя X на Y% за Z недель)\n",
    "- По-хорошему надо бы предварительно посчитать потенциальный эффект от рекоммендательной системы (Оценки эффектов у менеджера и у вас могут сильно не совпадать: как правило, вы знаете про данные больше)\n",
    "- А у нас вообще есть e-mail-ы пользователей? Для скольки %? Не устарели ли они?\n",
    "- Будем ли использовать СМС и push-уведомления в приложении? Может, будем печатать рекомендации на чеке после оплаты на кассе?\n",
    "- Как будет выглядеть e-mail? (решаем задачу топ-10 рекомендаций или ранжирования? И топ-10 ли?)\n",
    "- Какие товары должны быть в e-mail? Есть ли какие-то ограничения (только акции и т п)?\n",
    "- Сколько денег мы готовы потратить на привлечение 1 юзера? CAC - Customer Aquisition Cost. Обычно CAC = расходы на коммуникацию + расходы на скидки\n",
    "- Cколько мы хотим зарабатывать с одного привлеченного юзера?\n",
    "---\n",
    "- А точно нужно сортировать по вероятности?\n",
    "- Какую метрику использовать?\n",
    "- Сколько раз в неделю отпрпавляем рассылку?\n",
    "- В какое время отправляем рассылку?\n",
    "- Будем отправлять одному юзеру много раз наши рекоммендации. Как добиться того, чтобы они хоть немного отличались?\n",
    "- Нужно ли, чтобы в одной рассылке были *разные* товары? Как определить, что товары *разные*? Как добиться того, чтобы они были разными?\n",
    "- И многое другое:)"
   ]
  },
  {
   "cell_type": "markdown",
   "metadata": {
    "id": "QQN2KT7JIHy2"
   },
   "source": [
    "**В итоге договорились, что:**\n",
    "- Хотим повысить выручку минимум на 6% за 4 месяца. Будем повышать за счет роста Retention минимум на  3% и среднего чека минимум на 3%\n",
    "- Топ-5 товаров, а не топ-10 (В e-mail 10 выглядят не красиво, в push и на чек больше 5 не влезает)\n",
    "- Рассылаем в e-mail (5% клиентов) и push-уведомлении (20% клиентов), печатаем на чеке (все оффлайн клиенты)\n",
    "- **3 товара с акцией** (Как это учесть? А если на товар была акция 10%, а потом 50%, что будет стоять в user-item матрице?)\n",
    "- **1 новый товар** (юзер никогда не покупал. Просто фильтруем аутпут ALS? А если у таких товаров очень маленькая вероятность покупки? Может, использовать другую логику/модель?) \n",
    "- **1 товар для роста среднего чека** (товары минимум дороже чем обычно покупает юзер. Как это измерить? На сколько дороже?)"
   ]
  },
  {
   "cell_type": "markdown",
   "metadata": {
    "id": "TJVGydM9IHy2"
   },
   "source": [
    "Вопросов стало еще больше. Поэтому сначала делаем **MVP** (Minimum viable product) на e-mail. Показываем его менеджеру, измеряем метрики на юзерах. По фидбеку и метрикам делаем улучшения MVP и раскатываем его на push-уведомления и чеки\n",
    "\n",
    "*Data Science проект* - итеративный процесс!"
   ]
  },
  {
   "cell_type": "code",
   "execution_count": 51,
   "metadata": {
    "id": "rA7g4mL8IHy3",
    "outputId": "ecf022e0-c283-4cb8-ccec-611f9cdbedad"
   },
   "outputs": [
    {
     "data": {
      "text/html": [
       "<div>\n",
       "<style scoped>\n",
       "    .dataframe tbody tr th:only-of-type {\n",
       "        vertical-align: middle;\n",
       "    }\n",
       "\n",
       "    .dataframe tbody tr th {\n",
       "        vertical-align: top;\n",
       "    }\n",
       "\n",
       "    .dataframe thead th {\n",
       "        text-align: right;\n",
       "    }\n",
       "</style>\n",
       "<table border=\"1\" class=\"dataframe\">\n",
       "  <thead>\n",
       "    <tr style=\"text-align: right;\">\n",
       "      <th></th>\n",
       "      <th>user_id</th>\n",
       "      <th>basket_id</th>\n",
       "      <th>day</th>\n",
       "      <th>item_id</th>\n",
       "      <th>quantity</th>\n",
       "      <th>sales_value</th>\n",
       "      <th>store_id</th>\n",
       "      <th>retail_disc</th>\n",
       "      <th>trans_time</th>\n",
       "      <th>week_no</th>\n",
       "      <th>coupon_disc</th>\n",
       "      <th>coupon_match_disc</th>\n",
       "    </tr>\n",
       "  </thead>\n",
       "  <tbody>\n",
       "    <tr>\n",
       "      <th>0</th>\n",
       "      <td>2375</td>\n",
       "      <td>26984851472</td>\n",
       "      <td>1</td>\n",
       "      <td>1004906</td>\n",
       "      <td>1</td>\n",
       "      <td>1.39</td>\n",
       "      <td>364</td>\n",
       "      <td>-0.6</td>\n",
       "      <td>1631</td>\n",
       "      <td>1</td>\n",
       "      <td>0.0</td>\n",
       "      <td>0.0</td>\n",
       "    </tr>\n",
       "    <tr>\n",
       "      <th>1</th>\n",
       "      <td>2375</td>\n",
       "      <td>26984851472</td>\n",
       "      <td>1</td>\n",
       "      <td>1033142</td>\n",
       "      <td>1</td>\n",
       "      <td>0.82</td>\n",
       "      <td>364</td>\n",
       "      <td>0.0</td>\n",
       "      <td>1631</td>\n",
       "      <td>1</td>\n",
       "      <td>0.0</td>\n",
       "      <td>0.0</td>\n",
       "    </tr>\n",
       "  </tbody>\n",
       "</table>\n",
       "</div>"
      ],
      "text/plain": [
       "   user_id    basket_id  day  item_id  quantity  sales_value  store_id  \\\n",
       "0     2375  26984851472    1  1004906         1         1.39       364   \n",
       "1     2375  26984851472    1  1033142         1         0.82       364   \n",
       "\n",
       "   retail_disc  trans_time  week_no  coupon_disc  coupon_match_disc  \n",
       "0         -0.6        1631        1          0.0                0.0  \n",
       "1          0.0        1631        1          0.0                0.0  "
      ]
     },
     "execution_count": 51,
     "metadata": {},
     "output_type": "execute_result"
    }
   ],
   "source": [
    "data_train.head(2)"
   ]
  },
  {
   "cell_type": "code",
   "execution_count": 52,
   "metadata": {
    "id": "Ng_OBqaJIHy3",
    "outputId": "9b8bd811-80b7-47f1-bf70-58c51c48fc17"
   },
   "outputs": [
    {
     "name": "stderr",
     "output_type": "stream",
     "text": [
      "<ipython-input-52-73e31537f690>:1: SettingWithCopyWarning: \n",
      "A value is trying to be set on a copy of a slice from a DataFrame.\n",
      "Try using .loc[row_indexer,col_indexer] = value instead\n",
      "\n",
      "See the caveats in the documentation: https://pandas.pydata.org/pandas-docs/stable/user_guide/indexing.html#returning-a-view-versus-a-copy\n",
      "  data_train['price'] = data_train['sales_value'] / (np.maximum(data_train['quantity'], 1))\n"
     ]
    },
    {
     "data": {
      "text/plain": [
       "499.99"
      ]
     },
     "execution_count": 52,
     "metadata": {},
     "output_type": "execute_result"
    }
   ],
   "source": [
    "data_train['price'] = data_train['sales_value'] / (np.maximum(data_train['quantity'], 1))\n",
    "data_train['price'].max()"
   ]
  },
  {
   "cell_type": "code",
   "execution_count": 53,
   "metadata": {
    "id": "fO-CqBT4IHy3",
    "outputId": "5fad70dd-f1ae-4cb2-9e1f-dab3484d4919"
   },
   "outputs": [
    {
     "data": {
      "text/plain": [
       "0.99"
      ]
     },
     "execution_count": 53,
     "metadata": {},
     "output_type": "execute_result"
    }
   ],
   "source": [
    "# < 1$\n",
    "data_train['price'].quantile(0.20)"
   ]
  },
  {
   "cell_type": "code",
   "execution_count": 54,
   "metadata": {
    "id": "3kBJJ2s3IHy4",
    "outputId": "253ef171-4dd8-42f8-c912-9deb792dd597"
   },
   "outputs": [
    {
     "data": {
      "text/plain": [
       "82.01435450003483"
      ]
     },
     "execution_count": 54,
     "metadata": {},
     "output_type": "execute_result"
    }
   ],
   "source": [
    "# > 100$\n",
    "data_train['price'].quantile(0.99995)"
   ]
  },
  {
   "cell_type": "code",
   "execution_count": 83,
   "metadata": {
    "id": "oAK7h-0CIHy4"
   },
   "outputs": [],
   "source": [
    "def prefilter_items(data):\n",
    "    # Уберем самые популярные товары (их и так купят)\n",
    "    popularity = data_train.groupby('item_id')['user_id'].nunique().reset_index() / data_train['user_id'].nunique()\n",
    "    popularity.rename(columns={'user_id': 'share_unique_users'}, inplace=True)\n",
    "    \n",
    "    top_popular = popularity[popularity['share_unique_users'] > 0.5].item_id.tolist()\n",
    "    data = data[~data['item_id'].isin(top_popular)]\n",
    "    \n",
    "    # Уберем самые НЕ популярные товары (их и так НЕ купят)\n",
    "    top_notpopular = popularity[popularity['share_unique_users'] < 0.01].item_id.tolist()\n",
    "    data = data[~data['item_id'].isin(top_notpopular)]\n",
    "    \n",
    "    # Уберем товары, которые не продавались за последние 12 месяцев\n",
    "    data = data[data['week_no'] < 52]\n",
    "    \n",
    "    # Уберем не интересные для рекоммендаций категории (department)\n",
    "    item_not_interesting = item_features[item_features['department'].isin(['PHOTO', 'VIDEO', 'COUP/STR & MFG', 'RX'])].item_id.tolist()\n",
    "    data = data[~data['item_id'].isin(item_not_interesting)]\n",
    "    \n",
    "    # Уберем слишком дешевые товары (на них не заработаем). 1 покупка из рассылок стоит 60 руб. \n",
    "    data = data[data['sales_value'] > 1]\n",
    "    \n",
    "    # Уберем слишком дорогие товары\n",
    "    data = data[data['sales_value'] < 100]\n",
    "    \n",
    "def postfilter_items(user_id, recommednations):\n",
    "    pass"
   ]
  },
  {
   "cell_type": "markdown",
   "metadata": {
    "id": "OqYWeY14IHy4"
   },
   "source": [
    "Все эти функции отправим затем в *utils.py*"
   ]
  },
  {
   "cell_type": "code",
   "execution_count": 85,
   "metadata": {},
   "outputs": [],
   "source": [
    "from sklearn.model_selection import GridSearchCV"
   ]
  },
  {
   "cell_type": "code",
   "execution_count": null,
   "metadata": {},
   "outputs": [],
   "source": [
    "%%time\n",
    "\n",
    "model = AlternatingLeastSquares(factors=100, \n",
    "                                regularization=0.001,\n",
    "                                iterations=15, \n",
    "                                calculate_training_loss=True, \n",
    "                                num_threads=4)\n",
    "\n",
    "model.fit(csr_matrix(user_item_matrix).T.tocsr(),  # На вход item-user matrix\n",
    "          show_progress=True)\n",
    "\n",
    "recs = model.recommend(userid=userid_to_id[2],  # userid - id от 0 до N\n",
    "                        user_items=csr_matrix(user_item_matrix).tocsr(),   # на вход user-item matrix\n",
    "                        N=5, # кол-во рекомендаций \n",
    "                        filter_already_liked_items=False, \n",
    "                        filter_items=None, \n",
    "                        recalculate_user=True)"
   ]
  },
  {
   "cell_type": "code",
   "execution_count": 89,
   "metadata": {},
   "outputs": [
    {
     "data": {
      "text/plain": [
       "GridSearchCV(estimator=<implicit.als.AlternatingLeastSquares object at 0x000002002E362C10>,\n",
       "             param_grid={'factors': [10, 100, 1000],\n",
       "                         'iterations': [10, 50, 100],\n",
       "                         'regularization': [0, 0.01, 0.001, 0.0001]})"
      ]
     },
     "execution_count": 89,
     "metadata": {},
     "output_type": "execute_result"
    }
   ],
   "source": [
    "parameters = {'factors':[10, 100, 1000], 'regularization': [0, 0.01, 0.001, 0.0001], 'iterations': [10, 50, 100]}\n",
    "GridSearchCV(AlternatingLeastSquares(), parameters)"
   ]
  },
  {
   "cell_type": "markdown",
   "metadata": {},
   "source": [
    "# ДЗ\n",
    "\n",
    "1) Попытаться ответить на вопросы/выдвинуть гипотезы\n",
    "\n",
    "2) Доделать прошлые домашния задания\n",
    "\n",
    "3) Прочитать статьи BM25/MatrixFactorization\n",
    "\n",
    "4) Поэкспериментировать с ALS (grid-search)"
   ]
  },
  {
   "cell_type": "markdown",
   "metadata": {},
   "source": [
    "# Links\n",
    "\n",
    "BM25\n",
    "\n",
    "https://en.wikipedia.org/wiki/Okapi_BM25#:~:text=BM25%20is%20a%20bag%2Dof,slightly%20different%20components%20and%20parameters.\n",
    "\n",
    "\n",
    "Matrix factorization (ALS, SVD)\n",
    "https://datasciencemadesimpler.wordpress.com/tag/alternating-least-squares/"
   ]
  },
  {
   "cell_type": "code",
   "execution_count": null,
   "metadata": {},
   "outputs": [],
   "source": []
  }
 ],
 "metadata": {
  "colab": {
   "name": "webinar_3.ipynb",
   "provenance": [],
   "toc_visible": true
  },
  "kernelspec": {
   "display_name": "Python 3",
   "language": "python",
   "name": "python3"
  },
  "language_info": {
   "codemirror_mode": {
    "name": "ipython",
    "version": 3
   },
   "file_extension": ".py",
   "mimetype": "text/x-python",
   "name": "python",
   "nbconvert_exporter": "python",
   "pygments_lexer": "ipython3",
   "version": "3.8.5"
  }
 },
 "nbformat": 4,
 "nbformat_minor": 1
}
